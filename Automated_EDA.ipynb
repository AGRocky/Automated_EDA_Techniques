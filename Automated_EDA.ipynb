{
 "cells": [
  {
   "cell_type": "markdown",
   "id": "25a0935f-5126-4749-8920-89be7fa6f4da",
   "metadata": {},
   "source": [
    "# Automated EDA Techniques"
   ]
  },
  {
   "cell_type": "code",
   "execution_count": 1,
   "id": "616743e9-bb36-47d3-986d-1a9061794cee",
   "metadata": {},
   "outputs": [
    {
     "name": "stdout",
     "output_type": "stream",
     "text": [
      "Collecting pandas_profiling"
     ]
    },
    {
     "name": "stderr",
     "output_type": "stream",
     "text": [
      "WARNING: You are using pip version 21.2.4; however, version 22.0.4 is available.\n",
      "You should consider upgrading via the 'C:\\Users\\rocky\\AppData\\Local\\Programs\\Python\\Python39\\python.exe -m pip install --upgrade pip' command.\n"
     ]
    },
    {
     "name": "stdout",
     "output_type": "stream",
     "text": [
      "\n",
      "  Downloading pandas_profiling-3.1.0-py2.py3-none-any.whl (261 kB)\n",
      "Collecting phik>=0.11.1\n",
      "  Downloading phik-0.12.2-cp39-cp39-win_amd64.whl (685 kB)\n",
      "Collecting htmlmin>=0.1.12\n",
      "  Downloading htmlmin-0.1.12.tar.gz (19 kB)\n",
      "Collecting PyYAML>=5.0.0\n",
      "  Downloading PyYAML-6.0-cp39-cp39-win_amd64.whl (151 kB)\n",
      "Collecting multimethod>=1.4\n",
      "  Downloading multimethod-1.8-py3-none-any.whl (9.8 kB)\n",
      "Requirement already satisfied: pandas!=1.0.0,!=1.0.1,!=1.0.2,!=1.1.0,>=0.25.3 in c:\\users\\rocky\\appdata\\local\\programs\\python\\python39\\lib\\site-packages (from pandas_profiling) (1.3.4)\n",
      "Requirement already satisfied: pydantic>=1.8.1 in c:\\users\\rocky\\appdata\\local\\programs\\python\\python39\\lib\\site-packages (from pandas_profiling) (1.8.2)\n",
      "Collecting missingno>=0.4.2\n",
      "  Downloading missingno-0.5.1-py3-none-any.whl (8.7 kB)\n",
      "Requirement already satisfied: requests>=2.24.0 in c:\\users\\rocky\\appdata\\local\\programs\\python\\python39\\lib\\site-packages (from pandas_profiling) (2.26.0)\n",
      "Requirement already satisfied: numpy>=1.16.0 in c:\\users\\rocky\\appdata\\local\\programs\\python\\python39\\lib\\site-packages (from pandas_profiling) (1.21.4)\n",
      "Requirement already satisfied: seaborn>=0.10.1 in c:\\users\\rocky\\appdata\\local\\programs\\python\\python39\\lib\\site-packages (from pandas_profiling) (0.11.2)\n",
      "Requirement already satisfied: markupsafe~=2.0.1 in c:\\users\\rocky\\appdata\\local\\programs\\python\\python39\\lib\\site-packages (from pandas_profiling) (2.0.1)\n",
      "Requirement already satisfied: scipy>=1.4.1 in c:\\users\\rocky\\appdata\\local\\programs\\python\\python39\\lib\\site-packages (from pandas_profiling) (1.7.2)\n",
      "Collecting visions[type_image_path]==0.7.4\n",
      "  Downloading visions-0.7.4-py3-none-any.whl (102 kB)\n",
      "Collecting tangled-up-in-unicode==0.1.0\n",
      "  Downloading tangled_up_in_unicode-0.1.0-py3-none-any.whl (3.1 MB)\n",
      "Requirement already satisfied: tqdm>=4.48.2 in c:\\users\\rocky\\appdata\\local\\programs\\python\\python39\\lib\\site-packages (from pandas_profiling) (4.62.3)\n",
      "Requirement already satisfied: jinja2>=2.11.1 in c:\\users\\rocky\\appdata\\local\\programs\\python\\python39\\lib\\site-packages (from pandas_profiling) (3.0.3)\n",
      "Requirement already satisfied: matplotlib>=3.2.0 in c:\\users\\rocky\\appdata\\local\\programs\\python\\python39\\lib\\site-packages (from pandas_profiling) (3.5.0)\n",
      "Collecting joblib~=1.0.1\n",
      "  Downloading joblib-1.0.1-py3-none-any.whl (303 kB)\n",
      "Requirement already satisfied: attrs>=19.3.0 in c:\\users\\rocky\\appdata\\local\\programs\\python\\python39\\lib\\site-packages (from visions[type_image_path]==0.7.4->pandas_profiling) (21.2.0)\n",
      "Collecting networkx>=2.4\n",
      "  Downloading networkx-2.7.1-py3-none-any.whl (2.0 MB)\n",
      "Collecting imagehash\n",
      "  Downloading ImageHash-4.2.1.tar.gz (812 kB)\n",
      "Requirement already satisfied: Pillow in c:\\users\\rocky\\appdata\\local\\programs\\python\\python39\\lib\\site-packages (from visions[type_image_path]==0.7.4->pandas_profiling) (8.4.0)\n",
      "Requirement already satisfied: python-dateutil>=2.7 in c:\\users\\rocky\\appdata\\local\\programs\\python\\python39\\lib\\site-packages (from matplotlib>=3.2.0->pandas_profiling) (2.8.2)\n",
      "Requirement already satisfied: kiwisolver>=1.0.1 in c:\\users\\rocky\\appdata\\local\\programs\\python\\python39\\lib\\site-packages (from matplotlib>=3.2.0->pandas_profiling) (1.3.2)\n",
      "Requirement already satisfied: cycler>=0.10 in c:\\users\\rocky\\appdata\\local\\programs\\python\\python39\\lib\\site-packages (from matplotlib>=3.2.0->pandas_profiling) (0.11.0)\n",
      "Requirement already satisfied: setuptools-scm>=4 in c:\\users\\rocky\\appdata\\local\\programs\\python\\python39\\lib\\site-packages (from matplotlib>=3.2.0->pandas_profiling) (6.3.2)\n",
      "Requirement already satisfied: pyparsing>=2.2.1 in c:\\users\\rocky\\appdata\\local\\programs\\python\\python39\\lib\\site-packages (from matplotlib>=3.2.0->pandas_profiling) (3.0.6)\n",
      "Requirement already satisfied: fonttools>=4.22.0 in c:\\users\\rocky\\appdata\\local\\programs\\python\\python39\\lib\\site-packages (from matplotlib>=3.2.0->pandas_profiling) (4.28.2)\n",
      "Requirement already satisfied: packaging>=20.0 in c:\\users\\rocky\\appdata\\local\\programs\\python\\python39\\lib\\site-packages (from matplotlib>=3.2.0->pandas_profiling) (21.3)\n",
      "Requirement already satisfied: pytz>=2017.3 in c:\\users\\rocky\\appdata\\local\\programs\\python\\python39\\lib\\site-packages (from pandas!=1.0.0,!=1.0.1,!=1.0.2,!=1.1.0,>=0.25.3->pandas_profiling) (2021.3)\n",
      "Requirement already satisfied: typing-extensions>=3.7.4.3 in c:\\users\\rocky\\appdata\\local\\programs\\python\\python39\\lib\\site-packages (from pydantic>=1.8.1->pandas_profiling) (4.0.0)\n",
      "Requirement already satisfied: six>=1.5 in c:\\users\\rocky\\appdata\\local\\programs\\python\\python39\\lib\\site-packages (from python-dateutil>=2.7->matplotlib>=3.2.0->pandas_profiling) (1.16.0)\n",
      "Requirement already satisfied: idna<4,>=2.5 in c:\\users\\rocky\\appdata\\local\\programs\\python\\python39\\lib\\site-packages (from requests>=2.24.0->pandas_profiling) (3.3)\n",
      "Requirement already satisfied: charset-normalizer~=2.0.0 in c:\\users\\rocky\\appdata\\local\\programs\\python\\python39\\lib\\site-packages (from requests>=2.24.0->pandas_profiling) (2.0.7)\n",
      "Requirement already satisfied: certifi>=2017.4.17 in c:\\users\\rocky\\appdata\\local\\programs\\python\\python39\\lib\\site-packages (from requests>=2.24.0->pandas_profiling) (2021.10.8)\n",
      "Requirement already satisfied: urllib3<1.27,>=1.21.1 in c:\\users\\rocky\\appdata\\local\\programs\\python\\python39\\lib\\site-packages (from requests>=2.24.0->pandas_profiling) (1.26.7)\n",
      "Requirement already satisfied: tomli>=1.0.0 in c:\\users\\rocky\\appdata\\local\\programs\\python\\python39\\lib\\site-packages (from setuptools-scm>=4->matplotlib>=3.2.0->pandas_profiling) (1.2.2)\n",
      "Requirement already satisfied: setuptools in c:\\users\\rocky\\appdata\\local\\programs\\python\\python39\\lib\\site-packages (from setuptools-scm>=4->matplotlib>=3.2.0->pandas_profiling) (58.1.0)\n",
      "Requirement already satisfied: colorama in c:\\users\\rocky\\appdata\\local\\programs\\python\\python39\\lib\\site-packages (from tqdm>=4.48.2->pandas_profiling) (0.4.4)\n",
      "Collecting PyWavelets\n",
      "  Downloading PyWavelets-1.3.0-cp39-cp39-win_amd64.whl (4.2 MB)\n",
      "Using legacy 'setup.py install' for htmlmin, since package 'wheel' is not installed.\n",
      "Using legacy 'setup.py install' for imagehash, since package 'wheel' is not installed.\n",
      "Installing collected packages: tangled-up-in-unicode, PyWavelets, networkx, multimethod, visions, joblib, imagehash, PyYAML, phik, missingno, htmlmin, pandas-profiling\n",
      "  Attempting uninstall: joblib\n",
      "    Found existing installation: joblib 1.1.0\n",
      "    Uninstalling joblib-1.1.0:\n",
      "      Successfully uninstalled joblib-1.1.0\n",
      "    Running setup.py install for imagehash: started\n",
      "    Running setup.py install for imagehash: finished with status 'done'\n",
      "    Running setup.py install for htmlmin: started\n",
      "    Running setup.py install for htmlmin: finished with status 'done'\n",
      "Successfully installed PyWavelets-1.3.0 PyYAML-6.0 htmlmin-0.1.12 imagehash-4.2.1 joblib-1.0.1 missingno-0.5.1 multimethod-1.8 networkx-2.7.1 pandas-profiling-3.1.0 phik-0.12.2 tangled-up-in-unicode-0.1.0 visions-0.7.4\n"
     ]
    }
   ],
   "source": [
    "!pip install pandas_profiling"
   ]
  },
  {
   "cell_type": "code",
   "execution_count": 1,
   "id": "d20e92bd-d280-4900-9a9d-ced8255e95a3",
   "metadata": {},
   "outputs": [],
   "source": [
    "import pandas_profiling"
   ]
  },
  {
   "cell_type": "code",
   "execution_count": 2,
   "id": "1951f6e5-6e4e-4941-b867-0e276de4f241",
   "metadata": {},
   "outputs": [],
   "source": [
    "import seaborn as sns"
   ]
  },
  {
   "cell_type": "code",
   "execution_count": 3,
   "id": "913c6821-c550-4782-b781-962b0bb5c4a7",
   "metadata": {
    "tags": []
   },
   "outputs": [
    {
     "data": {
      "text/html": [
       "<div>\n",
       "<style scoped>\n",
       "    .dataframe tbody tr th:only-of-type {\n",
       "        vertical-align: middle;\n",
       "    }\n",
       "\n",
       "    .dataframe tbody tr th {\n",
       "        vertical-align: top;\n",
       "    }\n",
       "\n",
       "    .dataframe thead th {\n",
       "        text-align: right;\n",
       "    }\n",
       "</style>\n",
       "<table border=\"1\" class=\"dataframe\">\n",
       "  <thead>\n",
       "    <tr style=\"text-align: right;\">\n",
       "      <th></th>\n",
       "      <th>total_bill</th>\n",
       "      <th>tip</th>\n",
       "      <th>sex</th>\n",
       "      <th>smoker</th>\n",
       "      <th>day</th>\n",
       "      <th>time</th>\n",
       "      <th>size</th>\n",
       "    </tr>\n",
       "  </thead>\n",
       "  <tbody>\n",
       "    <tr>\n",
       "      <th>0</th>\n",
       "      <td>16.99</td>\n",
       "      <td>1.01</td>\n",
       "      <td>Female</td>\n",
       "      <td>No</td>\n",
       "      <td>Sun</td>\n",
       "      <td>Dinner</td>\n",
       "      <td>2</td>\n",
       "    </tr>\n",
       "    <tr>\n",
       "      <th>1</th>\n",
       "      <td>10.34</td>\n",
       "      <td>1.66</td>\n",
       "      <td>Male</td>\n",
       "      <td>No</td>\n",
       "      <td>Sun</td>\n",
       "      <td>Dinner</td>\n",
       "      <td>3</td>\n",
       "    </tr>\n",
       "    <tr>\n",
       "      <th>2</th>\n",
       "      <td>21.01</td>\n",
       "      <td>3.50</td>\n",
       "      <td>Male</td>\n",
       "      <td>No</td>\n",
       "      <td>Sun</td>\n",
       "      <td>Dinner</td>\n",
       "      <td>3</td>\n",
       "    </tr>\n",
       "    <tr>\n",
       "      <th>3</th>\n",
       "      <td>23.68</td>\n",
       "      <td>3.31</td>\n",
       "      <td>Male</td>\n",
       "      <td>No</td>\n",
       "      <td>Sun</td>\n",
       "      <td>Dinner</td>\n",
       "      <td>2</td>\n",
       "    </tr>\n",
       "    <tr>\n",
       "      <th>4</th>\n",
       "      <td>24.59</td>\n",
       "      <td>3.61</td>\n",
       "      <td>Female</td>\n",
       "      <td>No</td>\n",
       "      <td>Sun</td>\n",
       "      <td>Dinner</td>\n",
       "      <td>4</td>\n",
       "    </tr>\n",
       "  </tbody>\n",
       "</table>\n",
       "</div>"
      ],
      "text/plain": [
       "   total_bill   tip     sex smoker  day    time  size\n",
       "0       16.99  1.01  Female     No  Sun  Dinner     2\n",
       "1       10.34  1.66    Male     No  Sun  Dinner     3\n",
       "2       21.01  3.50    Male     No  Sun  Dinner     3\n",
       "3       23.68  3.31    Male     No  Sun  Dinner     2\n",
       "4       24.59  3.61  Female     No  Sun  Dinner     4"
      ]
     },
     "execution_count": 3,
     "metadata": {},
     "output_type": "execute_result"
    }
   ],
   "source": [
    "df = sns.load_dataset('tips')\n",
    "df.head()"
   ]
  },
  {
   "cell_type": "code",
   "execution_count": 4,
   "id": "21981c17-f56d-4900-822e-e015f7491afb",
   "metadata": {},
   "outputs": [],
   "source": [
    "from pandas_profiling import ProfileReport"
   ]
  },
  {
   "cell_type": "code",
   "execution_count": 5,
   "id": "4a9eebab-15cc-42a4-9f22-6f2068fcdc83",
   "metadata": {},
   "outputs": [],
   "source": [
    "profile = ProfileReport(df,explorative=True, dark_mode=True)"
   ]
  },
  {
   "cell_type": "code",
   "execution_count": 6,
   "id": "c0cbca10-a71c-445d-bbeb-daa684712da9",
   "metadata": {},
   "outputs": [
    {
     "data": {
      "application/vnd.jupyter.widget-view+json": {
       "model_id": "298d197cdba141ec8e2938a4297736a7",
       "version_major": 2,
       "version_minor": 0
      },
      "text/plain": [
       "Summarize dataset:   0%|          | 0/5 [00:00<?, ?it/s]"
      ]
     },
     "metadata": {},
     "output_type": "display_data"
    },
    {
     "data": {
      "application/vnd.jupyter.widget-view+json": {
       "model_id": "a2ab0414ac574cb3a4b6ed9d809a128b",
       "version_major": 2,
       "version_minor": 0
      },
      "text/plain": [
       "Generate report structure:   0%|          | 0/1 [00:00<?, ?it/s]"
      ]
     },
     "metadata": {},
     "output_type": "display_data"
    },
    {
     "data": {
      "application/vnd.jupyter.widget-view+json": {
       "model_id": "4d3e924cae0a4ef68cbbd90489d48b6a",
       "version_major": 2,
       "version_minor": 0
      },
      "text/plain": [
       "Render HTML:   0%|          | 0/1 [00:00<?, ?it/s]"
      ]
     },
     "metadata": {},
     "output_type": "display_data"
    },
    {
     "data": {
      "application/vnd.jupyter.widget-view+json": {
       "model_id": "7740b6bbbbad4c61b3751797cc8800a7",
       "version_major": 2,
       "version_minor": 0
      },
      "text/plain": [
       "Export report to file:   0%|          | 0/1 [00:00<?, ?it/s]"
      ]
     },
     "metadata": {},
     "output_type": "display_data"
    }
   ],
   "source": [
    "profile.to_file('output.html')"
   ]
  },
  {
   "cell_type": "code",
   "execution_count": 9,
   "id": "3450fdb8-4152-41de-9c57-5b9ddd00896f",
   "metadata": {},
   "outputs": [
    {
     "name": "stdout",
     "output_type": "stream",
     "text": [
      "Collecting dtale\n",
      "  Downloading dtale-2.2.0-py2.py3-none-any.whl (12.7 MB)\n",
      "Collecting missingno<=0.4.2\n",
      "  Downloading missingno-0.4.2-py3-none-any.whl (9.7 kB)\n",
      "Collecting xlrd\n",
      "  Downloading xlrd-2.0.1-py2.py3-none-any.whl (96 kB)\n",
      "Collecting dash-bootstrap-components\n",
      "  Downloading dash_bootstrap_components-1.1.0-py3-none-any.whl (210 kB)\n",
      "Requirement already satisfied: numpy in c:\\users\\rocky\\appdata\\local\\programs\\python\\python39\\lib\\site-packages (from dtale) (1.21.4)\n",
      "Collecting strsimpy\n",
      "  Downloading strsimpy-0.2.1-py3-none-any.whl (45 kB)\n",
      "Requirement already satisfied: dash>=2.0.0 in c:\\users\\rocky\\appdata\\local\\programs\\python\\python39\\lib\\site-packages (from dtale) (2.0.0)\n",
      "Collecting dash-daq\n",
      "  Downloading dash_daq-0.5.0.tar.gz (642 kB)\n",
      "Requirement already satisfied: plotly>=5.0.0 in c:\\users\\rocky\\appdata\\local\\programs\\python\\python39\\lib\\site-packages (from dtale) (5.4.0)\n",
      "Collecting kaleido\n",
      "  Downloading kaleido-0.2.1-py2.py3-none-win_amd64.whl (65.9 MB)\n",
      "Requirement already satisfied: Flask-Compress in c:\\users\\rocky\\appdata\\local\\programs\\python\\python39\\lib\\site-packages (from dtale) (1.10.1)\n",
      "Collecting xarray\n",
      "  Downloading xarray-2022.3.0-py3-none-any.whl (870 kB)\n",
      "Collecting squarify\n",
      "  Downloading squarify-0.4.3-py3-none-any.whl (4.3 kB)\n",
      "Collecting ppscore\n",
      "  Downloading ppscore-1.2.0.tar.gz (47 kB)\n",
      "Requirement already satisfied: Flask in c:\\users\\rocky\\appdata\\local\\programs\\python\\python39\\lib\\site-packages (from dtale) (2.0.2)\n",
      "Collecting dash-colorscales\n",
      "  Downloading dash_colorscales-0.0.4.tar.gz (62 kB)\n",
      "Collecting scikit-learn==0.24.2\n",
      "  Downloading scikit_learn-0.24.2-cp39-cp39-win_amd64.whl (6.9 MB)\n",
      "Collecting lz4\n",
      "  Downloading lz4-4.0.0-cp39-cp39-win_amd64.whl (96 kB)\n",
      "Requirement already satisfied: seaborn in c:\\users\\rocky\\appdata\\local\\programs\\python\\python39\\lib\\site-packages (from dtale) (0.11.2)\n",
      "Collecting future>=0.14.0\n",
      "  Downloading future-0.18.2.tar.gz (829 kB)\n",
      "Requirement already satisfied: networkx in c:\\users\\rocky\\appdata\\local\\programs\\python\\python39\\lib\\site-packages (from dtale) (2.7.1)\n",
      "Collecting flask-ngrok\n",
      "  Downloading flask_ngrok-0.0.25-py3-none-any.whl (3.1 kB)\n",
      "Requirement already satisfied: openpyxl in c:\\users\\rocky\\appdata\\local\\programs\\python\\python39\\lib\\site-packages (from dtale) (3.0.9)\n",
      "Collecting statsmodels\n",
      "  Downloading statsmodels-0.13.2-cp39-cp39-win_amd64.whl (9.1 MB)\n",
      "Requirement already satisfied: cycler in c:\\users\\rocky\\appdata\\local\\programs\\python\\python39\\lib\\site-packages (from dtale) (0.11.0)\n",
      "Requirement already satisfied: scipy in c:\\users\\rocky\\appdata\\local\\programs\\python\\python39\\lib\\site-packages (from dtale) (1.7.2)\n",
      "Requirement already satisfied: et-xmlfile in c:\\users\\rocky\\appdata\\local\\programs\\python\\python39\\lib\\site-packages (from dtale) (1.1.0)\n",
      "Requirement already satisfied: six in c:\\users\\rocky\\appdata\\local\\programs\\python\\python39\\lib\\site-packages (from dtale) (1.16.0)\n",
      "Requirement already satisfied: pandas in c:\\users\\rocky\\appdata\\local\\programs\\python\\python39\\lib\\site-packages (from dtale) (1.3.4)\n",
      "Requirement already satisfied: itsdangerous in c:\\users\\rocky\\appdata\\local\\programs\\python\\python39\\lib\\site-packages (from dtale) (2.0.1)\n",
      "Requirement already satisfied: requests in c:\\users\\rocky\\appdata\\local\\programs\\python\\python39\\lib\\site-packages (from dtale) (2.26.0)\n",
      "Requirement already satisfied: matplotlib in c:\\users\\rocky\\appdata\\local\\programs\\python\\python39\\lib\\site-packages (from dtale) (3.5.0)\n",
      "Requirement already satisfied: joblib>=0.11 in c:\\users\\rocky\\appdata\\local\\programs\\python\\python39\\lib\\site-packages (from scikit-learn==0.24.2->dtale) (1.0.1)\n",
      "Requirement already satisfied: threadpoolctl>=2.0.0 in c:\\users\\rocky\\appdata\\local\\programs\\python\\python39\\lib\\site-packages (from scikit-learn==0.24.2->dtale) (3.0.0)\n",
      "Requirement already satisfied: dash-core-components==2.0.0 in c:\\users\\rocky\\appdata\\local\\programs\\python\\python39\\lib\\site-packages (from dash>=2.0.0->dtale) (2.0.0)\n",
      "Requirement already satisfied: dash-html-components==2.0.0 in c:\\users\\rocky\\appdata\\local\\programs\\python\\python39\\lib\\site-packages (from dash>=2.0.0->dtale) (2.0.0)\n",
      "Requirement already satisfied: dash-table==5.0.0 in c:\\users\\rocky\\appdata\\local\\programs\\python\\python39\\lib\\site-packages (from dash>=2.0.0->dtale) (5.0.0)\n",
      "Requirement already satisfied: Werkzeug>=2.0 in c:\\users\\rocky\\appdata\\local\\programs\\python\\python39\\lib\\site-packages (from Flask->dtale) (2.0.2)\n",
      "Requirement already satisfied: Jinja2>=3.0 in c:\\users\\rocky\\appdata\\local\\programs\\python\\python39\\lib\\site-packages (from Flask->dtale) (3.0.3)\n",
      "Requirement already satisfied: click>=7.1.2 in c:\\users\\rocky\\appdata\\local\\programs\\python\\python39\\lib\\site-packages (from Flask->dtale) (8.0.3)\n",
      "Requirement already satisfied: colorama in c:\\users\\rocky\\appdata\\local\\programs\\python\\python39\\lib\\site-packages (from click>=7.1.2->Flask->dtale) (0.4.4)\n",
      "Requirement already satisfied: MarkupSafe>=2.0 in c:\\users\\rocky\\appdata\\local\\programs\\python\\python39\\lib\\site-packages (from Jinja2>=3.0->Flask->dtale) (2.0.1)\n",
      "Requirement already satisfied: tenacity>=6.2.0 in c:\\users\\rocky\\appdata\\local\\programs\\python\\python39\\lib\\site-packages (from plotly>=5.0.0->dtale) (8.0.1)\n",
      "Requirement already satisfied: brotli in c:\\users\\rocky\\appdata\\local\\programs\\python\\python39\\lib\\site-packages (from Flask-Compress->dtale) (1.0.9)\n",
      "Requirement already satisfied: packaging>=20.0 in c:\\users\\rocky\\appdata\\local\\programs\\python\\python39\\lib\\site-packages (from matplotlib->dtale) (21.3)\n",
      "Requirement already satisfied: fonttools>=4.22.0 in c:\\users\\rocky\\appdata\\local\\programs\\python\\python39\\lib\\site-packages (from matplotlib->dtale) (4.28.2)\n",
      "Requirement already satisfied: pyparsing>=2.2.1 in c:\\users\\rocky\\appdata\\local\\programs\\python\\python39\\lib\\site-packages (from matplotlib->dtale) (3.0.6)\n",
      "Requirement already satisfied: kiwisolver>=1.0.1 in c:\\users\\rocky\\appdata\\local\\programs\\python\\python39\\lib\\site-packages (from matplotlib->dtale) (1.3.2)\n",
      "Requirement already satisfied: setuptools-scm>=4 in c:\\users\\rocky\\appdata\\local\\programs\\python\\python39\\lib\\site-packages (from matplotlib->dtale) (6.3.2)\n",
      "Requirement already satisfied: python-dateutil>=2.7 in c:\\users\\rocky\\appdata\\local\\programs\\python\\python39\\lib\\site-packages (from matplotlib->dtale) (2.8.2)\n",
      "Requirement already satisfied: pillow>=6.2.0 in c:\\users\\rocky\\appdata\\local\\programs\\python\\python39\\lib\\site-packages (from matplotlib->dtale) (8.4.0)\n",
      "Requirement already satisfied: setuptools in c:\\users\\rocky\\appdata\\local\\programs\\python\\python39\\lib\\site-packages (from setuptools-scm>=4->matplotlib->dtale) (58.1.0)\n",
      "Requirement already satisfied: tomli>=1.0.0 in c:\\users\\rocky\\appdata\\local\\programs\\python\\python39\\lib\\site-packages (from setuptools-scm>=4->matplotlib->dtale) (1.2.2)\n",
      "Requirement already satisfied: pytz>=2017.3 in c:\\users\\rocky\\appdata\\local\\programs\\python\\python39\\lib\\site-packages (from pandas->dtale) (2021.3)\n",
      "Requirement already satisfied: urllib3<1.27,>=1.21.1 in c:\\users\\rocky\\appdata\\local\\programs\\python\\python39\\lib\\site-packages (from requests->dtale) (1.26.7)\n"
     ]
    },
    {
     "name": "stderr",
     "output_type": "stream",
     "text": [
      "WARNING: You are using pip version 21.2.4; however, version 22.0.4 is available.\n",
      "You should consider upgrading via the 'C:\\Users\\rocky\\AppData\\Local\\Programs\\Python\\Python39\\python.exe -m pip install --upgrade pip' command.\n"
     ]
    },
    {
     "name": "stdout",
     "output_type": "stream",
     "text": [
      "Requirement already satisfied: charset-normalizer~=2.0.0 in c:\\users\\rocky\\appdata\\local\\programs\\python\\python39\\lib\\site-packages (from requests->dtale) (2.0.7)\n",
      "Requirement already satisfied: certifi>=2017.4.17 in c:\\users\\rocky\\appdata\\local\\programs\\python\\python39\\lib\\site-packages (from requests->dtale) (2021.10.8)\n",
      "Requirement already satisfied: idna<4,>=2.5 in c:\\users\\rocky\\appdata\\local\\programs\\python\\python39\\lib\\site-packages (from requests->dtale) (3.3)\n",
      "Collecting patsy>=0.5.2\n",
      "  Downloading patsy-0.5.2-py2.py3-none-any.whl (233 kB)\n",
      "Using legacy 'setup.py install' for future, since package 'wheel' is not installed.\n",
      "Using legacy 'setup.py install' for dash-colorscales, since package 'wheel' is not installed.\n",
      "Using legacy 'setup.py install' for dash-daq, since package 'wheel' is not installed.\n",
      "Using legacy 'setup.py install' for ppscore, since package 'wheel' is not installed.\n",
      "Installing collected packages: scikit-learn, patsy, xlrd, xarray, strsimpy, statsmodels, squarify, ppscore, missingno, lz4, kaleido, future, flask-ngrok, dash-daq, dash-colorscales, dash-bootstrap-components, dtale\n",
      "  Attempting uninstall: scikit-learn\n",
      "    Found existing installation: scikit-learn 1.0.1\n",
      "    Uninstalling scikit-learn-1.0.1:\n",
      "      Successfully uninstalled scikit-learn-1.0.1\n",
      "    Running setup.py install for ppscore: started\n",
      "    Running setup.py install for ppscore: finished with status 'done'\n",
      "  Attempting uninstall: missingno\n",
      "    Found existing installation: missingno 0.5.1\n",
      "    Uninstalling missingno-0.5.1:\n",
      "      Successfully uninstalled missingno-0.5.1\n",
      "    Running setup.py install for future: started\n",
      "    Running setup.py install for future: finished with status 'done'\n",
      "    Running setup.py install for dash-daq: started\n",
      "    Running setup.py install for dash-daq: finished with status 'done'\n",
      "    Running setup.py install for dash-colorscales: started\n",
      "    Running setup.py install for dash-colorscales: finished with status 'done'\n",
      "Successfully installed dash-bootstrap-components-1.1.0 dash-colorscales-0.0.4 dash-daq-0.5.0 dtale-2.2.0 flask-ngrok-0.0.25 future-0.18.2 kaleido-0.2.1 lz4-4.0.0 missingno-0.4.2 patsy-0.5.2 ppscore-1.2.0 scikit-learn-0.24.2 squarify-0.4.3 statsmodels-0.13.2 strsimpy-0.2.1 xarray-2022.3.0 xlrd-2.0.1\n"
     ]
    }
   ],
   "source": [
    "## dtale\n",
    "!pip install dtale"
   ]
  },
  {
   "cell_type": "code",
   "execution_count": 10,
   "id": "44aef00d-7778-4a36-9b41-485ad44da7bc",
   "metadata": {},
   "outputs": [],
   "source": [
    "import pandas as pd\n",
    "import numpy as np"
   ]
  },
  {
   "cell_type": "code",
   "execution_count": 11,
   "id": "c9aa7447-9385-4a07-874d-2d5abbc6fcb6",
   "metadata": {},
   "outputs": [],
   "source": [
    "df = sns.load_dataset('titanic')"
   ]
  },
  {
   "cell_type": "code",
   "execution_count": 12,
   "id": "e03a8e6c-80a2-4c95-9ce8-fc0aa85e9ec2",
   "metadata": {},
   "outputs": [],
   "source": [
    "import dtale"
   ]
  },
  {
   "cell_type": "code",
   "execution_count": 13,
   "id": "faa076c0-1e8b-44f3-88c7-f085e786d7cc",
   "metadata": {
    "collapsed": true,
    "jupyter": {
     "outputs_hidden": true
    },
    "tags": []
   },
   "outputs": [
    {
     "data": {
      "text/html": [
       "\n",
       "        <iframe\n",
       "            width=\"100%\"\n",
       "            height=\"475\"\n",
       "            src=\"http://DESKTOP-JMI7763:40000/dtale/iframe/1\"\n",
       "            frameborder=\"0\"\n",
       "            allowfullscreen\n",
       "            \n",
       "        ></iframe>\n",
       "        "
      ],
      "text/plain": [
       "<IPython.lib.display.IFrame at 0x28934091d30>"
      ]
     },
     "metadata": {},
     "output_type": "display_data"
    },
    {
     "data": {
      "text/plain": []
     },
     "execution_count": 13,
     "metadata": {},
     "output_type": "execute_result"
    }
   ],
   "source": [
    "dtale.show(df)"
   ]
  },
  {
   "cell_type": "code",
   "execution_count": 14,
   "id": "8293e525-d4f1-407b-8d1e-c9d3da91c814",
   "metadata": {},
   "outputs": [
    {
     "name": "stdout",
     "output_type": "stream",
     "text": [
      "Collecting sweetviz"
     ]
    },
    {
     "name": "stderr",
     "output_type": "stream",
     "text": [
      "WARNING: You are using pip version 21.2.4; however, version 22.0.4 is available.\n",
      "You should consider upgrading via the 'C:\\Users\\rocky\\AppData\\Local\\Programs\\Python\\Python39\\python.exe -m pip install --upgrade pip' command."
     ]
    },
    {
     "name": "stdout",
     "output_type": "stream",
     "text": [
      "\n",
      "  Downloading sweetviz-2.1.3-py3-none-any.whl (15.1 MB)\n",
      "Requirement already satisfied: matplotlib>=3.1.3 in c:\\users\\rocky\\appdata\\local\\programs\\python\\python39\\lib\\site-packages (from sweetviz) (3.5.0)\n",
      "Requirement already satisfied: numpy>=1.16.0 in c:\\users\\rocky\\appdata\\local\\programs\\python\\python39\\lib\\site-packages (from sweetviz) (1.21.4)\n",
      "Requirement already satisfied: tqdm>=4.43.0 in c:\\users\\rocky\\appdata\\local\\programs\\python\\python39\\lib\\site-packages (from sweetviz) (4.62.3)\n",
      "Requirement already satisfied: scipy>=1.3.2 in c:\\users\\rocky\\appdata\\local\\programs\\python\\python39\\lib\\site-packages (from sweetviz) (1.7.2)\n",
      "Requirement already satisfied: pandas!=1.0.0,!=1.0.1,!=1.0.2,>=0.25.3 in c:\\users\\rocky\\appdata\\local\\programs\\python\\python39\\lib\\site-packages (from sweetviz) (1.3.4)\n",
      "Requirement already satisfied: jinja2>=2.11.1 in c:\\users\\rocky\\appdata\\local\\programs\\python\\python39\\lib\\site-packages (from sweetviz) (3.0.3)\n",
      "Collecting importlib-resources>=1.2.0\n",
      "  Downloading importlib_resources-5.6.0-py3-none-any.whl (28 kB)\n",
      "Collecting zipp>=3.1.0\n",
      "  Downloading zipp-3.8.0-py3-none-any.whl (5.4 kB)\n",
      "Requirement already satisfied: MarkupSafe>=2.0 in c:\\users\\rocky\\appdata\\local\\programs\\python\\python39\\lib\\site-packages (from jinja2>=2.11.1->sweetviz) (2.0.1)\n",
      "Requirement already satisfied: pyparsing>=2.2.1 in c:\\users\\rocky\\appdata\\local\\programs\\python\\python39\\lib\\site-packages (from matplotlib>=3.1.3->sweetviz) (3.0.6)\n",
      "Requirement already satisfied: fonttools>=4.22.0 in c:\\users\\rocky\\appdata\\local\\programs\\python\\python39\\lib\\site-packages (from matplotlib>=3.1.3->sweetviz) (4.28.2)\n",
      "Requirement already satisfied: kiwisolver>=1.0.1 in c:\\users\\rocky\\appdata\\local\\programs\\python\\python39\\lib\\site-packages (from matplotlib>=3.1.3->sweetviz) (1.3.2)\n",
      "Requirement already satisfied: cycler>=0.10 in c:\\users\\rocky\\appdata\\local\\programs\\python\\python39\\lib\\site-packages (from matplotlib>=3.1.3->sweetviz) (0.11.0)\n",
      "Requirement already satisfied: python-dateutil>=2.7 in c:\\users\\rocky\\appdata\\local\\programs\\python\\python39\\lib\\site-packages (from matplotlib>=3.1.3->sweetviz) (2.8.2)\n",
      "Requirement already satisfied: setuptools-scm>=4 in c:\\users\\rocky\\appdata\\local\\programs\\python\\python39\\lib\\site-packages (from matplotlib>=3.1.3->sweetviz) (6.3.2)\n",
      "Requirement already satisfied: pillow>=6.2.0 in c:\\users\\rocky\\appdata\\local\\programs\\python\\python39\\lib\\site-packages (from matplotlib>=3.1.3->sweetviz) (8.4.0)\n",
      "Requirement already satisfied: packaging>=20.0 in c:\\users\\rocky\\appdata\\local\\programs\\python\\python39\\lib\\site-packages (from matplotlib>=3.1.3->sweetviz) (21.3)\n",
      "Requirement already satisfied: pytz>=2017.3 in c:\\users\\rocky\\appdata\\local\\programs\\python\\python39\\lib\\site-packages (from pandas!=1.0.0,!=1.0.1,!=1.0.2,>=0.25.3->sweetviz) (2021.3)\n",
      "Requirement already satisfied: six>=1.5 in c:\\users\\rocky\\appdata\\local\\programs\\python\\python39\\lib\\site-packages (from python-dateutil>=2.7->matplotlib>=3.1.3->sweetviz) (1.16.0)\n",
      "Requirement already satisfied: tomli>=1.0.0 in c:\\users\\rocky\\appdata\\local\\programs\\python\\python39\\lib\\site-packages (from setuptools-scm>=4->matplotlib>=3.1.3->sweetviz) (1.2.2)\n",
      "Requirement already satisfied: setuptools in c:\\users\\rocky\\appdata\\local\\programs\\python\\python39\\lib\\site-packages (from setuptools-scm>=4->matplotlib>=3.1.3->sweetviz) (58.1.0)\n",
      "Requirement already satisfied: colorama in c:\\users\\rocky\\appdata\\local\\programs\\python\\python39\\lib\\site-packages (from tqdm>=4.43.0->sweetviz) (0.4.4)\n",
      "Installing collected packages: zipp, importlib-resources, sweetviz\n",
      "Successfully installed importlib-resources-5.6.0 sweetviz-2.1.3 zipp-3.8.0\n"
     ]
    },
    {
     "name": "stderr",
     "output_type": "stream",
     "text": [
      "\n"
     ]
    }
   ],
   "source": [
    "!pip install sweetviz"
   ]
  },
  {
   "cell_type": "code",
   "execution_count": 18,
   "id": "0c913734-1b2a-4c39-ad05-a9b0b0e5a063",
   "metadata": {},
   "outputs": [
    {
     "data": {
      "application/vnd.jupyter.widget-view+json": {
       "model_id": "b9083ebe09174513b5b81b1078d691d3",
       "version_major": 2,
       "version_minor": 0
      },
      "text/plain": [
       "                                             |                                             | [  0%]   00:00 ->…"
      ]
     },
     "metadata": {},
     "output_type": "display_data"
    },
    {
     "name": "stdout",
     "output_type": "stream",
     "text": [
      "Report newreport.html was generated! NOTEBOOK/COLAB USERS: the web browser MAY not pop up, regardless, the report IS saved in your notebook/colab files.\n",
      "Executing shutdown due to inactivity...\n"
     ]
    },
    {
     "name": "stderr",
     "output_type": "stream",
     "text": [
      "2022-04-08 13:36:06,790 - INFO     - Executing shutdown due to inactivity...\n"
     ]
    },
    {
     "name": "stdout",
     "output_type": "stream",
     "text": [
      "Executing shutdown...\n"
     ]
    },
    {
     "name": "stderr",
     "output_type": "stream",
     "text": [
      "2022-04-08 13:36:11,073 - INFO     - Executing shutdown...\n"
     ]
    }
   ],
   "source": [
    "import sweetviz as sv\n",
    "report = sv.analyze(df)\n",
    "#report.show_notebook('newreport.html')\n",
    "report.show_html('newreport.html')"
   ]
  },
  {
   "cell_type": "code",
   "execution_count": 21,
   "id": "fc49bfeb-cfe9-4a45-a5a1-a4d2f5889b3c",
   "metadata": {},
   "outputs": [
    {
     "name": "stdout",
     "output_type": "stream",
     "text": [
      "Collecting dataprep\n",
      "  Using cached dataprep-0.4.3-py3-none-any.whl (9.5 MB)\n",
      "Requirement already satisfied: flask<3,>=2 in c:\\users\\rocky\\appdata\\local\\programs\\python\\python39\\lib\\site-packages (from dataprep) (2.0.2)\n",
      "Collecting flask_cors<4.0.0,>=3.0.10\n",
      "  Using cached Flask_Cors-3.0.10-py2.py3-none-any.whl (14 kB)\n",
      "Requirement already satisfied: ipywidgets<8.0,>=7.5 in c:\\users\\rocky\\appdata\\local\\programs\\python\\python39\\lib\\site-packages (from dataprep) (7.6.5)\n",
      "Requirement already satisfied: tqdm<5.0,>=4.48 in c:\\users\\rocky\\appdata\\local\\programs\\python\\python39\\lib\\site-packages (from dataprep) (4.62.3)\n",
      "Collecting bokeh<3,>=2\n",
      "  Using cached bokeh-2.4.2-py3-none-any.whl (18.5 MB)\n",
      "Collecting wordcloud<2.0,>=1.8\n",
      "  Using cached wordcloud-1.8.1.tar.gz (220 kB)\n",
      "Requirement already satisfied: jinja2<4,>=3 in c:\\users\\rocky\\appdata\\local\\programs\\python\\python39\\lib\\site-packages (from dataprep) (3.0.3)\n",
      "Collecting python-stdnum<2.0,>=1.16\n",
      "  Using cached python_stdnum-1.17-py2.py3-none-any.whl (943 kB)\n",
      "Collecting scipy<=1.7.1\n",
      "  Using cached scipy-1.7.1-cp39-cp39-win_amd64.whl (33.8 MB)\n",
      "Requirement already satisfied: pydantic<2.0,>=1.6 in c:\\users\\rocky\\appdata\\local\\programs\\python\\python39\\lib\\site-packages (from dataprep) (1.8.2)\n",
      "Collecting jsonpath-ng<2.0,>=1.5\n",
      "  Using cached jsonpath_ng-1.5.3-py3-none-any.whl (29 kB)\n",
      "Collecting metaphone<0.7,>=0.6\n",
      "  Using cached Metaphone-0.6.tar.gz (14 kB)\n",
      "Collecting sqlalchemy<2.0.0,>=1.4.32\n",
      "  Using cached SQLAlchemy-1.4.35-cp39-cp39-win_amd64.whl (1.6 MB)\n",
      "Collecting varname<0.9.0,>=0.8.1\n",
      "  Using cached varname-0.8.3-py3-none-any.whl (21 kB)\n",
      "Collecting python-crfsuite<0.10.0,>=0.9.7\n",
      "  Using cached python_crfsuite-0.9.8-cp39-cp39-win_amd64.whl (158 kB)\n",
      "Collecting nltk<4.0.0,>=3.6.7\n",
      "  Using cached nltk-3.7-py3-none-any.whl (1.5 MB)\n",
      "Requirement already satisfied: pandas<2.0,>=1.1 in c:\\users\\rocky\\appdata\\local\\programs\\python\\python39\\lib\\site-packages (from dataprep) (1.3.4)\n",
      "Requirement already satisfied: dask[array,dataframe,delayed]<2022.0,>=2021.11 in c:\\users\\rocky\\appdata\\local\\programs\\python\\python39\\lib\\site-packages (from dataprep) (2021.12.0)\n",
      "Collecting python-Levenshtein<0.13.0,>=0.12.2\n",
      "  Using cached python-Levenshtein-0.12.2.tar.gz (50 kB)\n",
      "Collecting aiohttp<4.0,>=3.6\n",
      "  Using cached aiohttp-3.8.1-cp39-cp39-win_amd64.whl (554 kB)\n",
      "Collecting pystache<0.7.0,>=0.6.0\n",
      "  Using cached pystache-0.6.0-py3-none-any.whl\n"
     ]
    },
    {
     "name": "stderr",
     "output_type": "stream",
     "text": [
      "    ERROR: Command errored out with exit status 1:\n",
      "     command: 'C:\\Users\\rocky\\AppData\\Local\\Programs\\Python\\Python39\\python.exe' -u -c 'import io, os, sys, setuptools, tokenize; sys.argv[0] = '\"'\"'C:\\\\Users\\\\rocky\\\\AppData\\\\Local\\\\Temp\\\\pip-install-37x5la1o\\\\wordcloud_940513bb8a804c34838f40b97fc757ff\\\\setup.py'\"'\"'; __file__='\"'\"'C:\\\\Users\\\\rocky\\\\AppData\\\\Local\\\\Temp\\\\pip-install-37x5la1o\\\\wordcloud_940513bb8a804c34838f40b97fc757ff\\\\setup.py'\"'\"';f = getattr(tokenize, '\"'\"'open'\"'\"', open)(__file__) if os.path.exists(__file__) else io.StringIO('\"'\"'from setuptools import setup; setup()'\"'\"');code = f.read().replace('\"'\"'\\r\\n'\"'\"', '\"'\"'\\n'\"'\"');f.close();exec(compile(code, __file__, '\"'\"'exec'\"'\"'))' install --record 'C:\\Users\\rocky\\AppData\\Local\\Temp\\pip-record-iqlh907h\\install-record.txt' --single-version-externally-managed --compile --install-headers 'C:\\Users\\rocky\\AppData\\Local\\Programs\\Python\\Python39\\Include\\wordcloud'\n",
      "         cwd: C:\\Users\\rocky\\AppData\\Local\\Temp\\pip-install-37x5la1o\\wordcloud_940513bb8a804c34838f40b97fc757ff\\\n",
      "    Complete output (20 lines):\n",
      "    running install\n",
      "    running build\n",
      "    running build_py\n",
      "    creating build\n",
      "    creating build\\lib.win-amd64-3.9\n",
      "    creating build\\lib.win-amd64-3.9\\wordcloud\n",
      "    copying wordcloud\\color_from_image.py -> build\\lib.win-amd64-3.9\\wordcloud\n",
      "    copying wordcloud\\tokenization.py -> build\\lib.win-amd64-3.9\\wordcloud\n",
      "    copying wordcloud\\wordcloud.py -> build\\lib.win-amd64-3.9\\wordcloud\n",
      "    copying wordcloud\\wordcloud_cli.py -> build\\lib.win-amd64-3.9\\wordcloud\n",
      "    copying wordcloud\\_version.py -> build\\lib.win-amd64-3.9\\wordcloud\n",
      "    copying wordcloud\\__init__.py -> build\\lib.win-amd64-3.9\\wordcloud\n",
      "    copying wordcloud\\__main__.py -> build\\lib.win-amd64-3.9\\wordcloud\n",
      "    copying wordcloud\\stopwords -> build\\lib.win-amd64-3.9\\wordcloud\n",
      "    copying wordcloud\\DroidSansMono.ttf -> build\\lib.win-amd64-3.9\\wordcloud\n",
      "    UPDATING build\\lib.win-amd64-3.9\\wordcloud/_version.py\n",
      "    set build\\lib.win-amd64-3.9\\wordcloud/_version.py to '1.8.1'\n",
      "    running build_ext\n",
      "    building 'wordcloud.query_integral_image' extension\n",
      "    error: Microsoft Visual C++ 14.0 or greater is required. Get it with \"Microsoft C++ Build Tools\": https://visualstudio.microsoft.com/visual-cpp-build-tools/\n",
      "    ----------------------------------------\n",
      "ERROR: Command errored out with exit status 1: 'C:\\Users\\rocky\\AppData\\Local\\Programs\\Python\\Python39\\python.exe' -u -c 'import io, os, sys, setuptools, tokenize; sys.argv[0] = '\"'\"'C:\\\\Users\\\\rocky\\\\AppData\\\\Local\\\\Temp\\\\pip-install-37x5la1o\\\\wordcloud_940513bb8a804c34838f40b97fc757ff\\\\setup.py'\"'\"'; __file__='\"'\"'C:\\\\Users\\\\rocky\\\\AppData\\\\Local\\\\Temp\\\\pip-install-37x5la1o\\\\wordcloud_940513bb8a804c34838f40b97fc757ff\\\\setup.py'\"'\"';f = getattr(tokenize, '\"'\"'open'\"'\"', open)(__file__) if os.path.exists(__file__) else io.StringIO('\"'\"'from setuptools import setup; setup()'\"'\"');code = f.read().replace('\"'\"'\\r\\n'\"'\"', '\"'\"'\\n'\"'\"');f.close();exec(compile(code, __file__, '\"'\"'exec'\"'\"'))' install --record 'C:\\Users\\rocky\\AppData\\Local\\Temp\\pip-record-iqlh907h\\install-record.txt' --single-version-externally-managed --compile --install-headers 'C:\\Users\\rocky\\AppData\\Local\\Programs\\Python\\Python39\\Include\\wordcloud' Check the logs for full command output.\n",
      "WARNING: You are using pip version 21.2.4; however, version 22.0.4 is available.\n",
      "You should consider upgrading via the 'C:\\Users\\rocky\\AppData\\Local\\Programs\\Python\\Python39\\python.exe -m pip install --upgrade pip' command.\n"
     ]
    },
    {
     "name": "stdout",
     "output_type": "stream",
     "text": [
      "Requirement already satisfied: numpy<2.0,>=1.21 in c:\\users\\rocky\\appdata\\local\\programs\\python\\python39\\lib\\site-packages (from dataprep) (1.21.4)\n",
      "Requirement already satisfied: regex<2022.0.0,>=2021.8.3 in c:\\users\\rocky\\appdata\\local\\programs\\python\\python39\\lib\\site-packages (from dataprep) (2021.11.10)\n",
      "Requirement already satisfied: async-timeout<5.0,>=4.0.0a3 in c:\\users\\rocky\\appdata\\local\\programs\\python\\python39\\lib\\site-packages (from aiohttp<4.0,>=3.6->dataprep) (4.0.2)\n",
      "Requirement already satisfied: aiosignal>=1.1.2 in c:\\users\\rocky\\appdata\\local\\programs\\python\\python39\\lib\\site-packages (from aiohttp<4.0,>=3.6->dataprep) (1.2.0)\n",
      "Requirement already satisfied: attrs>=17.3.0 in c:\\users\\rocky\\appdata\\local\\programs\\python\\python39\\lib\\site-packages (from aiohttp<4.0,>=3.6->dataprep) (21.2.0)\n",
      "Requirement already satisfied: yarl<2.0,>=1.0 in c:\\users\\rocky\\appdata\\local\\programs\\python\\python39\\lib\\site-packages (from aiohttp<4.0,>=3.6->dataprep) (1.7.2)\n",
      "Requirement already satisfied: frozenlist>=1.1.1 in c:\\users\\rocky\\appdata\\local\\programs\\python\\python39\\lib\\site-packages (from aiohttp<4.0,>=3.6->dataprep) (1.3.0)\n",
      "Requirement already satisfied: charset-normalizer<3.0,>=2.0 in c:\\users\\rocky\\appdata\\local\\programs\\python\\python39\\lib\\site-packages (from aiohttp<4.0,>=3.6->dataprep) (2.0.7)\n",
      "Requirement already satisfied: multidict<7.0,>=4.5 in c:\\users\\rocky\\appdata\\local\\programs\\python\\python39\\lib\\site-packages (from aiohttp<4.0,>=3.6->dataprep) (6.0.2)\n",
      "Requirement already satisfied: tornado>=5.1 in c:\\users\\rocky\\appdata\\local\\programs\\python\\python39\\lib\\site-packages (from bokeh<3,>=2->dataprep) (6.1)\n",
      "Requirement already satisfied: pillow>=7.1.0 in c:\\users\\rocky\\appdata\\local\\programs\\python\\python39\\lib\\site-packages (from bokeh<3,>=2->dataprep) (8.4.0)\n",
      "Requirement already satisfied: PyYAML>=3.10 in c:\\users\\rocky\\appdata\\local\\programs\\python\\python39\\lib\\site-packages (from bokeh<3,>=2->dataprep) (6.0)\n",
      "Requirement already satisfied: packaging>=16.8 in c:\\users\\rocky\\appdata\\local\\programs\\python\\python39\\lib\\site-packages (from bokeh<3,>=2->dataprep) (21.3)\n",
      "Requirement already satisfied: typing-extensions>=3.10.0 in c:\\users\\rocky\\appdata\\local\\programs\\python\\python39\\lib\\site-packages (from bokeh<3,>=2->dataprep) (4.0.0)\n",
      "Requirement already satisfied: cloudpickle>=1.1.1 in c:\\users\\rocky\\appdata\\local\\programs\\python\\python39\\lib\\site-packages (from dask[array,dataframe,delayed]<2022.0,>=2021.11->dataprep) (2.0.0)\n",
      "Requirement already satisfied: toolz>=0.8.2 in c:\\users\\rocky\\appdata\\local\\programs\\python\\python39\\lib\\site-packages (from dask[array,dataframe,delayed]<2022.0,>=2021.11->dataprep) (0.11.2)\n",
      "Requirement already satisfied: partd>=0.3.10 in c:\\users\\rocky\\appdata\\local\\programs\\python\\python39\\lib\\site-packages (from dask[array,dataframe,delayed]<2022.0,>=2021.11->dataprep) (1.2.0)\n",
      "Requirement already satisfied: fsspec>=0.6.0 in c:\\users\\rocky\\appdata\\local\\programs\\python\\python39\\lib\\site-packages (from dask[array,dataframe,delayed]<2022.0,>=2021.11->dataprep) (2022.3.0)\n",
      "Requirement already satisfied: Werkzeug>=2.0 in c:\\users\\rocky\\appdata\\local\\programs\\python\\python39\\lib\\site-packages (from flask<3,>=2->dataprep) (2.0.2)\n",
      "Requirement already satisfied: click>=7.1.2 in c:\\users\\rocky\\appdata\\local\\programs\\python\\python39\\lib\\site-packages (from flask<3,>=2->dataprep) (8.0.3)\n",
      "Requirement already satisfied: itsdangerous>=2.0 in c:\\users\\rocky\\appdata\\local\\programs\\python\\python39\\lib\\site-packages (from flask<3,>=2->dataprep) (2.0.1)\n",
      "Requirement already satisfied: colorama in c:\\users\\rocky\\appdata\\local\\programs\\python\\python39\\lib\\site-packages (from click>=7.1.2->flask<3,>=2->dataprep) (0.4.4)\n",
      "Requirement already satisfied: Six in c:\\users\\rocky\\appdata\\local\\programs\\python\\python39\\lib\\site-packages (from flask_cors<4.0.0,>=3.0.10->dataprep) (1.16.0)\n",
      "Requirement already satisfied: widgetsnbextension~=3.5.0 in c:\\users\\rocky\\appdata\\local\\programs\\python\\python39\\lib\\site-packages (from ipywidgets<8.0,>=7.5->dataprep) (3.5.2)\n",
      "Requirement already satisfied: ipykernel>=4.5.1 in c:\\users\\rocky\\appdata\\local\\programs\\python\\python39\\lib\\site-packages (from ipywidgets<8.0,>=7.5->dataprep) (6.5.1)\n",
      "Requirement already satisfied: ipython>=4.0.0 in c:\\users\\rocky\\appdata\\local\\programs\\python\\python39\\lib\\site-packages (from ipywidgets<8.0,>=7.5->dataprep) (7.29.0)\n",
      "Requirement already satisfied: jupyterlab-widgets>=1.0.0 in c:\\users\\rocky\\appdata\\local\\programs\\python\\python39\\lib\\site-packages (from ipywidgets<8.0,>=7.5->dataprep) (1.0.2)\n",
      "Requirement already satisfied: ipython-genutils~=0.2.0 in c:\\users\\rocky\\appdata\\local\\programs\\python\\python39\\lib\\site-packages (from ipywidgets<8.0,>=7.5->dataprep) (0.2.0)\n",
      "Requirement already satisfied: nbformat>=4.2.0 in c:\\users\\rocky\\appdata\\local\\programs\\python\\python39\\lib\\site-packages (from ipywidgets<8.0,>=7.5->dataprep) (5.1.3)\n",
      "Requirement already satisfied: traitlets>=4.3.1 in c:\\users\\rocky\\appdata\\local\\programs\\python\\python39\\lib\\site-packages (from ipywidgets<8.0,>=7.5->dataprep) (5.1.1)\n",
      "Requirement already satisfied: debugpy<2.0,>=1.0.0 in c:\\users\\rocky\\appdata\\local\\programs\\python\\python39\\lib\\site-packages (from ipykernel>=4.5.1->ipywidgets<8.0,>=7.5->dataprep) (1.5.1)\n",
      "Requirement already satisfied: matplotlib-inline<0.2.0,>=0.1.0 in c:\\users\\rocky\\appdata\\local\\programs\\python\\python39\\lib\\site-packages (from ipykernel>=4.5.1->ipywidgets<8.0,>=7.5->dataprep) (0.1.3)\n",
      "Requirement already satisfied: jupyter-client<8.0 in c:\\users\\rocky\\appdata\\local\\programs\\python\\python39\\lib\\site-packages (from ipykernel>=4.5.1->ipywidgets<8.0,>=7.5->dataprep) (7.1.0)\n",
      "Requirement already satisfied: pygments in c:\\users\\rocky\\appdata\\local\\programs\\python\\python39\\lib\\site-packages (from ipython>=4.0.0->ipywidgets<8.0,>=7.5->dataprep) (2.10.0)\n",
      "Requirement already satisfied: prompt-toolkit!=3.0.0,!=3.0.1,<3.1.0,>=2.0.0 in c:\\users\\rocky\\appdata\\local\\programs\\python\\python39\\lib\\site-packages (from ipython>=4.0.0->ipywidgets<8.0,>=7.5->dataprep) (3.0.22)\n",
      "Requirement already satisfied: decorator in c:\\users\\rocky\\appdata\\local\\programs\\python\\python39\\lib\\site-packages (from ipython>=4.0.0->ipywidgets<8.0,>=7.5->dataprep) (5.1.0)\n",
      "Requirement already satisfied: pickleshare in c:\\users\\rocky\\appdata\\local\\programs\\python\\python39\\lib\\site-packages (from ipython>=4.0.0->ipywidgets<8.0,>=7.5->dataprep) (0.7.5)\n",
      "Requirement already satisfied: jedi>=0.16 in c:\\users\\rocky\\appdata\\local\\programs\\python\\python39\\lib\\site-packages (from ipython>=4.0.0->ipywidgets<8.0,>=7.5->dataprep) (0.18.1)\n",
      "Requirement already satisfied: backcall in c:\\users\\rocky\\appdata\\local\\programs\\python\\python39\\lib\\site-packages (from ipython>=4.0.0->ipywidgets<8.0,>=7.5->dataprep) (0.2.0)\n",
      "Requirement already satisfied: setuptools>=18.5 in c:\\users\\rocky\\appdata\\local\\programs\\python\\python39\\lib\\site-packages (from ipython>=4.0.0->ipywidgets<8.0,>=7.5->dataprep) (58.1.0)\n",
      "Requirement already satisfied: parso<0.9.0,>=0.8.0 in c:\\users\\rocky\\appdata\\local\\programs\\python\\python39\\lib\\site-packages (from jedi>=0.16->ipython>=4.0.0->ipywidgets<8.0,>=7.5->dataprep) (0.8.2)\n",
      "Requirement already satisfied: MarkupSafe>=2.0 in c:\\users\\rocky\\appdata\\local\\programs\\python\\python39\\lib\\site-packages (from jinja2<4,>=3->dataprep) (2.0.1)\n",
      "Requirement already satisfied: ply in c:\\users\\rocky\\appdata\\local\\programs\\python\\python39\\lib\\site-packages (from jsonpath-ng<2.0,>=1.5->dataprep) (3.11)\n",
      "Requirement already satisfied: pyzmq>=13 in c:\\users\\rocky\\appdata\\local\\programs\\python\\python39\\lib\\site-packages (from jupyter-client<8.0->ipykernel>=4.5.1->ipywidgets<8.0,>=7.5->dataprep) (22.3.0)\n",
      "Requirement already satisfied: nest-asyncio>=1.5 in c:\\users\\rocky\\appdata\\local\\programs\\python\\python39\\lib\\site-packages (from jupyter-client<8.0->ipykernel>=4.5.1->ipywidgets<8.0,>=7.5->dataprep) (1.5.1)\n",
      "Requirement already satisfied: jupyter-core>=4.6.0 in c:\\users\\rocky\\appdata\\local\\programs\\python\\python39\\lib\\site-packages (from jupyter-client<8.0->ipykernel>=4.5.1->ipywidgets<8.0,>=7.5->dataprep) (4.9.1)\n",
      "Requirement already satisfied: entrypoints in c:\\users\\rocky\\appdata\\local\\programs\\python\\python39\\lib\\site-packages (from jupyter-client<8.0->ipykernel>=4.5.1->ipywidgets<8.0,>=7.5->dataprep) (0.3)\n",
      "Requirement already satisfied: python-dateutil>=2.1 in c:\\users\\rocky\\appdata\\local\\programs\\python\\python39\\lib\\site-packages (from jupyter-client<8.0->ipykernel>=4.5.1->ipywidgets<8.0,>=7.5->dataprep) (2.8.2)\n",
      "Requirement already satisfied: pywin32>=1.0 in c:\\users\\rocky\\appdata\\local\\programs\\python\\python39\\lib\\site-packages (from jupyter-core>=4.6.0->jupyter-client<8.0->ipykernel>=4.5.1->ipywidgets<8.0,>=7.5->dataprep) (302)\n",
      "Requirement already satisfied: jsonschema!=2.5.0,>=2.4 in c:\\users\\rocky\\appdata\\local\\programs\\python\\python39\\lib\\site-packages (from nbformat>=4.2.0->ipywidgets<8.0,>=7.5->dataprep) (4.2.1)\n",
      "Requirement already satisfied: pyrsistent!=0.17.0,!=0.17.1,!=0.17.2,>=0.14.0 in c:\\users\\rocky\\appdata\\local\\programs\\python\\python39\\lib\\site-packages (from jsonschema!=2.5.0,>=2.4->nbformat>=4.2.0->ipywidgets<8.0,>=7.5->dataprep) (0.18.0)\n",
      "Requirement already satisfied: joblib in c:\\users\\rocky\\appdata\\local\\programs\\python\\python39\\lib\\site-packages (from nltk<4.0.0,>=3.6.7->dataprep) (1.0.1)\n",
      "Requirement already satisfied: pyparsing!=3.0.5,>=2.0.2 in c:\\users\\rocky\\appdata\\local\\programs\\python\\python39\\lib\\site-packages (from packaging>=16.8->bokeh<3,>=2->dataprep) (3.0.6)\n",
      "Requirement already satisfied: pytz>=2017.3 in c:\\users\\rocky\\appdata\\local\\programs\\python\\python39\\lib\\site-packages (from pandas<2.0,>=1.1->dataprep) (2021.3)\n",
      "Requirement already satisfied: locket in c:\\users\\rocky\\appdata\\local\\programs\\python\\python39\\lib\\site-packages (from partd>=0.3.10->dask[array,dataframe,delayed]<2022.0,>=2021.11->dataprep) (0.2.1)\n",
      "Requirement already satisfied: wcwidth in c:\\users\\rocky\\appdata\\local\\programs\\python\\python39\\lib\\site-packages (from prompt-toolkit!=3.0.0,!=3.0.1,<3.1.0,>=2.0.0->ipython>=4.0.0->ipywidgets<8.0,>=7.5->dataprep) (0.2.5)\n",
      "Requirement already satisfied: greenlet!=0.4.17 in c:\\users\\rocky\\appdata\\local\\programs\\python\\python39\\lib\\site-packages (from sqlalchemy<2.0.0,>=1.4.32->dataprep) (1.1.2)\n",
      "Requirement already satisfied: executing<0.9.0,>=0.8.3 in c:\\users\\rocky\\appdata\\local\\programs\\python\\python39\\lib\\site-packages (from varname<0.9.0,>=0.8.1->dataprep) (0.8.3)\n",
      "Requirement already satisfied: asttokens<3.0.0,>=2.0.0 in c:\\users\\rocky\\appdata\\local\\programs\\python\\python39\\lib\\site-packages (from varname<0.9.0,>=0.8.1->dataprep) (2.0.5)\n",
      "Requirement already satisfied: pure_eval<1.0.0 in c:\\users\\rocky\\appdata\\local\\programs\\python\\python39\\lib\\site-packages (from varname<0.9.0,>=0.8.1->dataprep) (0.2.2)\n",
      "Requirement already satisfied: notebook>=4.4.1 in c:\\users\\rocky\\appdata\\local\\programs\\python\\python39\\lib\\site-packages (from widgetsnbextension~=3.5.0->ipywidgets<8.0,>=7.5->dataprep) (6.4.6)\n",
      "Requirement already satisfied: nbconvert in c:\\users\\rocky\\appdata\\local\\programs\\python\\python39\\lib\\site-packages (from notebook>=4.4.1->widgetsnbextension~=3.5.0->ipywidgets<8.0,>=7.5->dataprep) (6.3.0)\n",
      "Requirement already satisfied: prometheus-client in c:\\users\\rocky\\appdata\\local\\programs\\python\\python39\\lib\\site-packages (from notebook>=4.4.1->widgetsnbextension~=3.5.0->ipywidgets<8.0,>=7.5->dataprep) (0.12.0)\n",
      "Requirement already satisfied: Send2Trash>=1.8.0 in c:\\users\\rocky\\appdata\\local\\programs\\python\\python39\\lib\\site-packages (from notebook>=4.4.1->widgetsnbextension~=3.5.0->ipywidgets<8.0,>=7.5->dataprep) (1.8.0)\n",
      "Requirement already satisfied: terminado>=0.8.3 in c:\\users\\rocky\\appdata\\local\\programs\\python\\python39\\lib\\site-packages (from notebook>=4.4.1->widgetsnbextension~=3.5.0->ipywidgets<8.0,>=7.5->dataprep) (0.12.1)\n",
      "Requirement already satisfied: argon2-cffi in c:\\users\\rocky\\appdata\\local\\programs\\python\\python39\\lib\\site-packages (from notebook>=4.4.1->widgetsnbextension~=3.5.0->ipywidgets<8.0,>=7.5->dataprep) (21.1.0)\n",
      "Requirement already satisfied: pywinpty>=1.1.0 in c:\\users\\rocky\\appdata\\local\\programs\\python\\python39\\lib\\site-packages (from terminado>=0.8.3->notebook>=4.4.1->widgetsnbextension~=3.5.0->ipywidgets<8.0,>=7.5->dataprep) (1.1.6)\n",
      "Requirement already satisfied: matplotlib in c:\\users\\rocky\\appdata\\local\\programs\\python\\python39\\lib\\site-packages (from wordcloud<2.0,>=1.8->dataprep) (3.5.0)\n",
      "Requirement already satisfied: idna>=2.0 in c:\\users\\rocky\\appdata\\local\\programs\\python\\python39\\lib\\site-packages (from yarl<2.0,>=1.0->aiohttp<4.0,>=3.6->dataprep) (3.3)\n",
      "Requirement already satisfied: cffi>=1.0.0 in c:\\users\\rocky\\appdata\\local\\programs\\python\\python39\\lib\\site-packages (from argon2-cffi->notebook>=4.4.1->widgetsnbextension~=3.5.0->ipywidgets<8.0,>=7.5->dataprep) (1.15.0)\n",
      "Requirement already satisfied: pycparser in c:\\users\\rocky\\appdata\\local\\programs\\python\\python39\\lib\\site-packages (from cffi>=1.0.0->argon2-cffi->notebook>=4.4.1->widgetsnbextension~=3.5.0->ipywidgets<8.0,>=7.5->dataprep) (2.21)\n",
      "Requirement already satisfied: fonttools>=4.22.0 in c:\\users\\rocky\\appdata\\local\\programs\\python\\python39\\lib\\site-packages (from matplotlib->wordcloud<2.0,>=1.8->dataprep) (4.28.2)\n",
      "Requirement already satisfied: cycler>=0.10 in c:\\users\\rocky\\appdata\\local\\programs\\python\\python39\\lib\\site-packages (from matplotlib->wordcloud<2.0,>=1.8->dataprep) (0.11.0)\n",
      "Requirement already satisfied: setuptools-scm>=4 in c:\\users\\rocky\\appdata\\local\\programs\\python\\python39\\lib\\site-packages (from matplotlib->wordcloud<2.0,>=1.8->dataprep) (6.3.2)\n",
      "Requirement already satisfied: kiwisolver>=1.0.1 in c:\\users\\rocky\\appdata\\local\\programs\\python\\python39\\lib\\site-packages (from matplotlib->wordcloud<2.0,>=1.8->dataprep) (1.3.2)\n",
      "Requirement already satisfied: tomli>=1.0.0 in c:\\users\\rocky\\appdata\\local\\programs\\python\\python39\\lib\\site-packages (from setuptools-scm>=4->matplotlib->wordcloud<2.0,>=1.8->dataprep) (1.2.2)\n",
      "Requirement already satisfied: bleach in c:\\users\\rocky\\appdata\\local\\programs\\python\\python39\\lib\\site-packages (from nbconvert->notebook>=4.4.1->widgetsnbextension~=3.5.0->ipywidgets<8.0,>=7.5->dataprep) (4.1.0)\n",
      "Requirement already satisfied: pandocfilters>=1.4.1 in c:\\users\\rocky\\appdata\\local\\programs\\python\\python39\\lib\\site-packages (from nbconvert->notebook>=4.4.1->widgetsnbextension~=3.5.0->ipywidgets<8.0,>=7.5->dataprep) (1.5.0)\n",
      "Requirement already satisfied: testpath in c:\\users\\rocky\\appdata\\local\\programs\\python\\python39\\lib\\site-packages (from nbconvert->notebook>=4.4.1->widgetsnbextension~=3.5.0->ipywidgets<8.0,>=7.5->dataprep) (0.5.0)\n",
      "Requirement already satisfied: mistune<2,>=0.8.1 in c:\\users\\rocky\\appdata\\local\\programs\\python\\python39\\lib\\site-packages (from nbconvert->notebook>=4.4.1->widgetsnbextension~=3.5.0->ipywidgets<8.0,>=7.5->dataprep) (0.8.4)\n",
      "Requirement already satisfied: jupyterlab-pygments in c:\\users\\rocky\\appdata\\local\\programs\\python\\python39\\lib\\site-packages (from nbconvert->notebook>=4.4.1->widgetsnbextension~=3.5.0->ipywidgets<8.0,>=7.5->dataprep) (0.1.2)\n",
      "Requirement already satisfied: nbclient<0.6.0,>=0.5.0 in c:\\users\\rocky\\appdata\\local\\programs\\python\\python39\\lib\\site-packages (from nbconvert->notebook>=4.4.1->widgetsnbextension~=3.5.0->ipywidgets<8.0,>=7.5->dataprep) (0.5.9)\n",
      "Requirement already satisfied: defusedxml in c:\\users\\rocky\\appdata\\local\\programs\\python\\python39\\lib\\site-packages (from nbconvert->notebook>=4.4.1->widgetsnbextension~=3.5.0->ipywidgets<8.0,>=7.5->dataprep) (0.7.1)\n",
      "Requirement already satisfied: webencodings in c:\\users\\rocky\\appdata\\local\\programs\\python\\python39\\lib\\site-packages (from bleach->nbconvert->notebook>=4.4.1->widgetsnbextension~=3.5.0->ipywidgets<8.0,>=7.5->dataprep) (0.5.1)\n",
      "Using legacy 'setup.py install' for metaphone, since package 'wheel' is not installed.\n",
      "Using legacy 'setup.py install' for python-Levenshtein, since package 'wheel' is not installed.\n",
      "Using legacy 'setup.py install' for wordcloud, since package 'wheel' is not installed.\n",
      "Installing collected packages: wordcloud, varname, sqlalchemy, scipy, python-stdnum, python-Levenshtein, python-crfsuite, pystache, nltk, metaphone, jsonpath-ng, flask-cors, bokeh, aiohttp, dataprep\n",
      "    Running setup.py install for wordcloud: started\n",
      "    Running setup.py install for wordcloud: finished with status 'error'\n"
     ]
    }
   ],
   "source": [
    "!pip install dataprep"
   ]
  },
  {
   "cell_type": "code",
   "execution_count": 24,
   "id": "19cb0cb5-2784-40f5-8fed-31ebcde33160",
   "metadata": {},
   "outputs": [
    {
     "ename": "ModuleNotFoundError",
     "evalue": "No module named 'dataprep'",
     "output_type": "error",
     "traceback": [
      "\u001b[1;31m---------------------------------------------------------------------------\u001b[0m",
      "\u001b[1;31mModuleNotFoundError\u001b[0m                       Traceback (most recent call last)",
      "\u001b[1;32m~\\AppData\\Local\\Temp/ipykernel_10320/485433350.py\u001b[0m in \u001b[0;36m<module>\u001b[1;34m\u001b[0m\n\u001b[1;32m----> 1\u001b[1;33m \u001b[1;32mfrom\u001b[0m \u001b[0mdataprep\u001b[0m\u001b[1;33m.\u001b[0m\u001b[0meda\u001b[0m \u001b[1;32mimport\u001b[0m \u001b[0mcreate_report\u001b[0m\u001b[1;33m\u001b[0m\u001b[1;33m\u001b[0m\u001b[0m\n\u001b[0m\u001b[0;32m      2\u001b[0m \u001b[0mcreate_report\u001b[0m\u001b[1;33m(\u001b[0m\u001b[0mdf1\u001b[0m\u001b[1;33m)\u001b[0m\u001b[1;33m\u001b[0m\u001b[1;33m\u001b[0m\u001b[0m\n",
      "\u001b[1;31mModuleNotFoundError\u001b[0m: No module named 'dataprep'"
     ]
    }
   ],
   "source": [
    "from dataprep.eda import create_report\n",
    "create_report(df1)"
   ]
  },
  {
   "cell_type": "code",
   "execution_count": 25,
   "id": "378d8513-6a2b-466b-adf1-33f36ddbb0bb",
   "metadata": {},
   "outputs": [
    {
     "name": "stdout",
     "output_type": "stream",
     "text": [
      "Collecting lux\n",
      "  Downloading lux-0.5.1.tar.gz (14 kB)\n",
      "Collecting lux-api\n",
      "  Downloading lux-api-0.5.1.tar.gz (127 kB)\n",
      "  Installing build dependencies: started\n",
      "  Installing build dependencies: finished with status 'done'\n",
      "  Getting requirements to build wheel: started\n",
      "  Getting requirements to build wheel: finished with status 'done'\n",
      "    Preparing wheel metadata: started\n",
      "    Preparing wheel metadata: finished with status 'done'\n",
      "Collecting lux-widget\n",
      "  Downloading lux-widget-0.1.11.tar.gz (2.5 MB)\n",
      "Requirement already satisfied: matplotlib>=3.0.0 in c:\\users\\rocky\\appdata\\local\\programs\\python\\python39\\lib\\site-packages (from lux-api->lux) (3.5.0)\n",
      "Requirement already satisfied: scikit-learn>=0.22 in c:\\users\\rocky\\appdata\\local\\programs\\python\\python39\\lib\\site-packages (from lux-api->lux) (0.24.2)\n",
      "Collecting sh\n"
     ]
    },
    {
     "name": "stderr",
     "output_type": "stream",
     "text": [
      "WARNING: You are using pip version 21.2.4; however, version 22.0.4 is available.\n",
      "You should consider upgrading via the 'C:\\Users\\rocky\\AppData\\Local\\Programs\\Python\\Python39\\python.exe -m pip install --upgrade pip' command.\n"
     ]
    },
    {
     "name": "stdout",
     "output_type": "stream",
     "text": [
      "  Downloading sh-1.14.2-py2.py3-none-any.whl (40 kB)\n",
      "Requirement already satisfied: pandas in c:\\users\\rocky\\appdata\\local\\programs\\python\\python39\\lib\\site-packages (from lux-api->lux) (1.3.4)\n",
      "Requirement already satisfied: numpy>=1.16.5 in c:\\users\\rocky\\appdata\\local\\programs\\python\\python39\\lib\\site-packages (from lux-api->lux) (1.21.4)\n",
      "Collecting autopep8>=1.5\n",
      "  Downloading autopep8-1.6.0-py2.py3-none-any.whl (45 kB)\n",
      "Collecting iso3166\n",
      "  Downloading iso3166-2.0.2-py3-none-any.whl (8.5 kB)\n",
      "Collecting psutil>=5.9.0\n",
      "  Downloading psutil-5.9.0-cp39-cp39-win_amd64.whl (245 kB)\n",
      "Requirement already satisfied: scipy>=1.3.3 in c:\\users\\rocky\\appdata\\local\\programs\\python\\python39\\lib\\site-packages (from lux-api->lux) (1.7.2)\n",
      "Collecting altair>=4.0.0\n",
      "  Downloading altair-4.2.0-py3-none-any.whl (812 kB)\n",
      "Requirement already satisfied: jsonschema>=3.0 in c:\\users\\rocky\\appdata\\local\\programs\\python\\python39\\lib\\site-packages (from altair>=4.0.0->lux-api->lux) (4.2.1)\n",
      "Requirement already satisfied: jinja2 in c:\\users\\rocky\\appdata\\local\\programs\\python\\python39\\lib\\site-packages (from altair>=4.0.0->lux-api->lux) (3.0.3)\n",
      "Requirement already satisfied: toolz in c:\\users\\rocky\\appdata\\local\\programs\\python\\python39\\lib\\site-packages (from altair>=4.0.0->lux-api->lux) (0.11.2)\n",
      "Requirement already satisfied: entrypoints in c:\\users\\rocky\\appdata\\local\\programs\\python\\python39\\lib\\site-packages (from altair>=4.0.0->lux-api->lux) (0.3)\n",
      "Collecting pycodestyle>=2.8.0\n",
      "  Downloading pycodestyle-2.8.0-py2.py3-none-any.whl (42 kB)\n",
      "Collecting toml\n",
      "  Downloading toml-0.10.2-py2.py3-none-any.whl (16 kB)\n",
      "Requirement already satisfied: pyrsistent!=0.17.0,!=0.17.1,!=0.17.2,>=0.14.0 in c:\\users\\rocky\\appdata\\local\\programs\\python\\python39\\lib\\site-packages (from jsonschema>=3.0->altair>=4.0.0->lux-api->lux) (0.18.0)\n",
      "Requirement already satisfied: attrs>=17.4.0 in c:\\users\\rocky\\appdata\\local\\programs\\python\\python39\\lib\\site-packages (from jsonschema>=3.0->altair>=4.0.0->lux-api->lux) (21.2.0)\n",
      "Requirement already satisfied: notebook>=4.0.0 in c:\\users\\rocky\\appdata\\local\\programs\\python\\python39\\lib\\site-packages (from lux-widget->lux) (6.4.6)\n",
      "Requirement already satisfied: ipywidgets>=7.5.0 in c:\\users\\rocky\\appdata\\local\\programs\\python\\python39\\lib\\site-packages (from lux-widget->lux) (7.6.5)\n",
      "Requirement already satisfied: jupyterlab-widgets>=1.0.0 in c:\\users\\rocky\\appdata\\local\\programs\\python\\python39\\lib\\site-packages (from ipywidgets>=7.5.0->lux-widget->lux) (1.0.2)\n",
      "Requirement already satisfied: widgetsnbextension~=3.5.0 in c:\\users\\rocky\\appdata\\local\\programs\\python\\python39\\lib\\site-packages (from ipywidgets>=7.5.0->lux-widget->lux) (3.5.2)\n",
      "Requirement already satisfied: ipython>=4.0.0 in c:\\users\\rocky\\appdata\\local\\programs\\python\\python39\\lib\\site-packages (from ipywidgets>=7.5.0->lux-widget->lux) (7.29.0)\n",
      "Requirement already satisfied: ipykernel>=4.5.1 in c:\\users\\rocky\\appdata\\local\\programs\\python\\python39\\lib\\site-packages (from ipywidgets>=7.5.0->lux-widget->lux) (6.5.1)\n",
      "Requirement already satisfied: nbformat>=4.2.0 in c:\\users\\rocky\\appdata\\local\\programs\\python\\python39\\lib\\site-packages (from ipywidgets>=7.5.0->lux-widget->lux) (5.1.3)\n",
      "Requirement already satisfied: traitlets>=4.3.1 in c:\\users\\rocky\\appdata\\local\\programs\\python\\python39\\lib\\site-packages (from ipywidgets>=7.5.0->lux-widget->lux) (5.1.1)\n",
      "Requirement already satisfied: ipython-genutils~=0.2.0 in c:\\users\\rocky\\appdata\\local\\programs\\python\\python39\\lib\\site-packages (from ipywidgets>=7.5.0->lux-widget->lux) (0.2.0)\n",
      "Requirement already satisfied: debugpy<2.0,>=1.0.0 in c:\\users\\rocky\\appdata\\local\\programs\\python\\python39\\lib\\site-packages (from ipykernel>=4.5.1->ipywidgets>=7.5.0->lux-widget->lux) (1.5.1)\n",
      "Requirement already satisfied: jupyter-client<8.0 in c:\\users\\rocky\\appdata\\local\\programs\\python\\python39\\lib\\site-packages (from ipykernel>=4.5.1->ipywidgets>=7.5.0->lux-widget->lux) (7.1.0)\n",
      "Requirement already satisfied: matplotlib-inline<0.2.0,>=0.1.0 in c:\\users\\rocky\\appdata\\local\\programs\\python\\python39\\lib\\site-packages (from ipykernel>=4.5.1->ipywidgets>=7.5.0->lux-widget->lux) (0.1.3)\n",
      "Requirement already satisfied: tornado<7.0,>=4.2 in c:\\users\\rocky\\appdata\\local\\programs\\python\\python39\\lib\\site-packages (from ipykernel>=4.5.1->ipywidgets>=7.5.0->lux-widget->lux) (6.1)\n",
      "Requirement already satisfied: backcall in c:\\users\\rocky\\appdata\\local\\programs\\python\\python39\\lib\\site-packages (from ipython>=4.0.0->ipywidgets>=7.5.0->lux-widget->lux) (0.2.0)\n",
      "Requirement already satisfied: pygments in c:\\users\\rocky\\appdata\\local\\programs\\python\\python39\\lib\\site-packages (from ipython>=4.0.0->ipywidgets>=7.5.0->lux-widget->lux) (2.10.0)\n",
      "Requirement already satisfied: colorama in c:\\users\\rocky\\appdata\\local\\programs\\python\\python39\\lib\\site-packages (from ipython>=4.0.0->ipywidgets>=7.5.0->lux-widget->lux) (0.4.4)\n",
      "Requirement already satisfied: pickleshare in c:\\users\\rocky\\appdata\\local\\programs\\python\\python39\\lib\\site-packages (from ipython>=4.0.0->ipywidgets>=7.5.0->lux-widget->lux) (0.7.5)\n",
      "Requirement already satisfied: prompt-toolkit!=3.0.0,!=3.0.1,<3.1.0,>=2.0.0 in c:\\users\\rocky\\appdata\\local\\programs\\python\\python39\\lib\\site-packages (from ipython>=4.0.0->ipywidgets>=7.5.0->lux-widget->lux) (3.0.22)\n",
      "Requirement already satisfied: setuptools>=18.5 in c:\\users\\rocky\\appdata\\local\\programs\\python\\python39\\lib\\site-packages (from ipython>=4.0.0->ipywidgets>=7.5.0->lux-widget->lux) (58.1.0)\n",
      "Requirement already satisfied: jedi>=0.16 in c:\\users\\rocky\\appdata\\local\\programs\\python\\python39\\lib\\site-packages (from ipython>=4.0.0->ipywidgets>=7.5.0->lux-widget->lux) (0.18.1)\n",
      "Requirement already satisfied: decorator in c:\\users\\rocky\\appdata\\local\\programs\\python\\python39\\lib\\site-packages (from ipython>=4.0.0->ipywidgets>=7.5.0->lux-widget->lux) (5.1.0)\n",
      "Requirement already satisfied: parso<0.9.0,>=0.8.0 in c:\\users\\rocky\\appdata\\local\\programs\\python\\python39\\lib\\site-packages (from jedi>=0.16->ipython>=4.0.0->ipywidgets>=7.5.0->lux-widget->lux) (0.8.2)\n",
      "Requirement already satisfied: jupyter-core>=4.6.0 in c:\\users\\rocky\\appdata\\local\\programs\\python\\python39\\lib\\site-packages (from jupyter-client<8.0->ipykernel>=4.5.1->ipywidgets>=7.5.0->lux-widget->lux) (4.9.1)\n",
      "Requirement already satisfied: nest-asyncio>=1.5 in c:\\users\\rocky\\appdata\\local\\programs\\python\\python39\\lib\\site-packages (from jupyter-client<8.0->ipykernel>=4.5.1->ipywidgets>=7.5.0->lux-widget->lux) (1.5.1)\n",
      "Requirement already satisfied: python-dateutil>=2.1 in c:\\users\\rocky\\appdata\\local\\programs\\python\\python39\\lib\\site-packages (from jupyter-client<8.0->ipykernel>=4.5.1->ipywidgets>=7.5.0->lux-widget->lux) (2.8.2)\n",
      "Requirement already satisfied: pyzmq>=13 in c:\\users\\rocky\\appdata\\local\\programs\\python\\python39\\lib\\site-packages (from jupyter-client<8.0->ipykernel>=4.5.1->ipywidgets>=7.5.0->lux-widget->lux) (22.3.0)\n",
      "Requirement already satisfied: pywin32>=1.0 in c:\\users\\rocky\\appdata\\local\\programs\\python\\python39\\lib\\site-packages (from jupyter-core>=4.6.0->jupyter-client<8.0->ipykernel>=4.5.1->ipywidgets>=7.5.0->lux-widget->lux) (302)\n",
      "Requirement already satisfied: setuptools-scm>=4 in c:\\users\\rocky\\appdata\\local\\programs\\python\\python39\\lib\\site-packages (from matplotlib>=3.0.0->lux-api->lux) (6.3.2)\n",
      "Requirement already satisfied: cycler>=0.10 in c:\\users\\rocky\\appdata\\local\\programs\\python\\python39\\lib\\site-packages (from matplotlib>=3.0.0->lux-api->lux) (0.11.0)\n",
      "Requirement already satisfied: pyparsing>=2.2.1 in c:\\users\\rocky\\appdata\\local\\programs\\python\\python39\\lib\\site-packages (from matplotlib>=3.0.0->lux-api->lux) (3.0.6)\n",
      "Requirement already satisfied: fonttools>=4.22.0 in c:\\users\\rocky\\appdata\\local\\programs\\python\\python39\\lib\\site-packages (from matplotlib>=3.0.0->lux-api->lux) (4.28.2)\n",
      "Requirement already satisfied: kiwisolver>=1.0.1 in c:\\users\\rocky\\appdata\\local\\programs\\python\\python39\\lib\\site-packages (from matplotlib>=3.0.0->lux-api->lux) (1.3.2)\n",
      "Requirement already satisfied: packaging>=20.0 in c:\\users\\rocky\\appdata\\local\\programs\\python\\python39\\lib\\site-packages (from matplotlib>=3.0.0->lux-api->lux) (21.3)\n",
      "Requirement already satisfied: pillow>=6.2.0 in c:\\users\\rocky\\appdata\\local\\programs\\python\\python39\\lib\\site-packages (from matplotlib>=3.0.0->lux-api->lux) (8.4.0)\n",
      "Requirement already satisfied: nbconvert in c:\\users\\rocky\\appdata\\local\\programs\\python\\python39\\lib\\site-packages (from notebook>=4.0.0->lux-widget->lux) (6.3.0)\n",
      "Requirement already satisfied: terminado>=0.8.3 in c:\\users\\rocky\\appdata\\local\\programs\\python\\python39\\lib\\site-packages (from notebook>=4.0.0->lux-widget->lux) (0.12.1)\n",
      "Requirement already satisfied: Send2Trash>=1.8.0 in c:\\users\\rocky\\appdata\\local\\programs\\python\\python39\\lib\\site-packages (from notebook>=4.0.0->lux-widget->lux) (1.8.0)\n",
      "Requirement already satisfied: prometheus-client in c:\\users\\rocky\\appdata\\local\\programs\\python\\python39\\lib\\site-packages (from notebook>=4.0.0->lux-widget->lux) (0.12.0)\n",
      "Requirement already satisfied: argon2-cffi in c:\\users\\rocky\\appdata\\local\\programs\\python\\python39\\lib\\site-packages (from notebook>=4.0.0->lux-widget->lux) (21.1.0)\n",
      "Requirement already satisfied: pytz>=2017.3 in c:\\users\\rocky\\appdata\\local\\programs\\python\\python39\\lib\\site-packages (from pandas->lux-api->lux) (2021.3)\n",
      "Requirement already satisfied: wcwidth in c:\\users\\rocky\\appdata\\local\\programs\\python\\python39\\lib\\site-packages (from prompt-toolkit!=3.0.0,!=3.0.1,<3.1.0,>=2.0.0->ipython>=4.0.0->ipywidgets>=7.5.0->lux-widget->lux) (0.2.5)\n",
      "Requirement already satisfied: six>=1.5 in c:\\users\\rocky\\appdata\\local\\programs\\python\\python39\\lib\\site-packages (from python-dateutil>=2.1->jupyter-client<8.0->ipykernel>=4.5.1->ipywidgets>=7.5.0->lux-widget->lux) (1.16.0)\n",
      "Requirement already satisfied: threadpoolctl>=2.0.0 in c:\\users\\rocky\\appdata\\local\\programs\\python\\python39\\lib\\site-packages (from scikit-learn>=0.22->lux-api->lux) (3.0.0)\n",
      "Requirement already satisfied: joblib>=0.11 in c:\\users\\rocky\\appdata\\local\\programs\\python\\python39\\lib\\site-packages (from scikit-learn>=0.22->lux-api->lux) (1.0.1)\n",
      "Requirement already satisfied: tomli>=1.0.0 in c:\\users\\rocky\\appdata\\local\\programs\\python\\python39\\lib\\site-packages (from setuptools-scm>=4->matplotlib>=3.0.0->lux-api->lux) (1.2.2)\n",
      "Requirement already satisfied: pywinpty>=1.1.0 in c:\\users\\rocky\\appdata\\local\\programs\\python\\python39\\lib\\site-packages (from terminado>=0.8.3->notebook>=4.0.0->lux-widget->lux) (1.1.6)\n",
      "Requirement already satisfied: cffi>=1.0.0 in c:\\users\\rocky\\appdata\\local\\programs\\python\\python39\\lib\\site-packages (from argon2-cffi->notebook>=4.0.0->lux-widget->lux) (1.15.0)\n",
      "Requirement already satisfied: pycparser in c:\\users\\rocky\\appdata\\local\\programs\\python\\python39\\lib\\site-packages (from cffi>=1.0.0->argon2-cffi->notebook>=4.0.0->lux-widget->lux) (2.21)\n",
      "Requirement already satisfied: MarkupSafe>=2.0 in c:\\users\\rocky\\appdata\\local\\programs\\python\\python39\\lib\\site-packages (from jinja2->altair>=4.0.0->lux-api->lux) (2.0.1)\n",
      "Requirement already satisfied: mistune<2,>=0.8.1 in c:\\users\\rocky\\appdata\\local\\programs\\python\\python39\\lib\\site-packages (from nbconvert->notebook>=4.0.0->lux-widget->lux) (0.8.4)\n",
      "Requirement already satisfied: testpath in c:\\users\\rocky\\appdata\\local\\programs\\python\\python39\\lib\\site-packages (from nbconvert->notebook>=4.0.0->lux-widget->lux) (0.5.0)\n",
      "Requirement already satisfied: nbclient<0.6.0,>=0.5.0 in c:\\users\\rocky\\appdata\\local\\programs\\python\\python39\\lib\\site-packages (from nbconvert->notebook>=4.0.0->lux-widget->lux) (0.5.9)\n",
      "Requirement already satisfied: defusedxml in c:\\users\\rocky\\appdata\\local\\programs\\python\\python39\\lib\\site-packages (from nbconvert->notebook>=4.0.0->lux-widget->lux) (0.7.1)\n",
      "Requirement already satisfied: pandocfilters>=1.4.1 in c:\\users\\rocky\\appdata\\local\\programs\\python\\python39\\lib\\site-packages (from nbconvert->notebook>=4.0.0->lux-widget->lux) (1.5.0)\n",
      "Requirement already satisfied: bleach in c:\\users\\rocky\\appdata\\local\\programs\\python\\python39\\lib\\site-packages (from nbconvert->notebook>=4.0.0->lux-widget->lux) (4.1.0)\n",
      "Requirement already satisfied: jupyterlab-pygments in c:\\users\\rocky\\appdata\\local\\programs\\python\\python39\\lib\\site-packages (from nbconvert->notebook>=4.0.0->lux-widget->lux) (0.1.2)\n",
      "Requirement already satisfied: webencodings in c:\\users\\rocky\\appdata\\local\\programs\\python\\python39\\lib\\site-packages (from bleach->nbconvert->notebook>=4.0.0->lux-widget->lux) (0.5.1)\n",
      "Using legacy 'setup.py install' for lux, since package 'wheel' is not installed.\n",
      "Using legacy 'setup.py install' for lux-widget, since package 'wheel' is not installed.\n",
      "Building wheels for collected packages: lux-api\n",
      "  Building wheel for lux-api (PEP 517): started\n",
      "  Building wheel for lux-api (PEP 517): finished with status 'done'\n",
      "  Created wheel for lux-api: filename=lux_api-0.5.1-py3-none-any.whl size=185620 sha256=0fdcf9513cc523ab6f7646952ae5eb6f23603ee68449f43ddf144efb0bf7014b\n",
      "  Stored in directory: c:\\users\\rocky\\appdata\\local\\pip\\cache\\wheels\\bd\\05\\a4\\441d23d1cece85d6cd3cec43b38896e88a729e8048138825bd\n",
      "Successfully built lux-api\n",
      "Installing collected packages: toml, pycodestyle, sh, psutil, lux-widget, iso3166, autopep8, altair, lux-api, lux\n",
      "    Running setup.py install for lux-widget: started\n",
      "    Running setup.py install for lux-widget: finished with status 'done'\n",
      "    Running setup.py install for lux: started\n",
      "    Running setup.py install for lux: finished with status 'done'\n",
      "Successfully installed altair-4.2.0 autopep8-1.6.0 iso3166-2.0.2 lux-0.5.1 lux-api-0.5.1 lux-widget-0.1.11 psutil-5.9.0 pycodestyle-2.8.0 sh-1.14.2 toml-0.10.2\n"
     ]
    }
   ],
   "source": [
    "!pip install lux"
   ]
  },
  {
   "cell_type": "code",
   "execution_count": 26,
   "id": "9b5de155-2958-4ec5-bb9a-760ca81130f1",
   "metadata": {},
   "outputs": [
    {
     "name": "stdout",
     "output_type": "stream",
     "text": [
      "Collecting pandas_visual_analysis\n",
      "  Downloading pandas_visual_analysis-0.0.4-py3-none-any.whl (34 kB)\n",
      "Requirement already satisfied: plotly>=4.10.0 in c:\\users\\rocky\\appdata\\local\\programs\\python\\python39\\lib\\site-packages (from pandas_visual_analysis) (5.4.0)\n",
      "Requirement already satisfied: numpy>=1.19.1 in c:\\users\\rocky\\appdata\\local\\programs\\python\\python39\\lib\\site-packages (from pandas_visual_analysis) (1.21.4)\n",
      "Collecting blinker>=1.4\n",
      "  Downloading blinker-1.4.tar.gz (111 kB)\n",
      "Requirement already satisfied: ipywidgets>=7.5.1 in c:\\users\\rocky\\appdata\\local\\programs\\python\\python39\\lib\\site-packages (from pandas_visual_analysis) (7.6.5)\n",
      "Requirement already satisfied: setuptools>=49.2.0 in c:\\users\\rocky\\appdata\\local\\programs\\python\\python39\\lib\\site-packages (from pandas_visual_analysis) (58.1.0)\n",
      "Requirement already satisfied: pandas>=1.1.0 in c:\\users\\rocky\\appdata\\local\\programs\\python\\python39\\lib\\site-packages (from pandas_visual_analysis) (1.3.4)\n",
      "Requirement already satisfied: jupyterlab-widgets>=1.0.0 in c:\\users\\rocky\\appdata\\local\\programs\\python\\python39\\lib\\site-packages (from ipywidgets>=7.5.1->pandas_visual_analysis) (1.0.2)\n",
      "Requirement already satisfied: ipython-genutils~=0.2.0 in c:\\users\\rocky\\appdata\\local\\programs\\python\\python39\\lib\\site-packages (from ipywidgets>=7.5.1->pandas_visual_analysis) (0.2.0)\n",
      "Requirement already satisfied: ipython>=4.0.0 in c:\\users\\rocky\\appdata\\local\\programs\\python\\python39\\lib\\site-packages (from ipywidgets>=7.5.1->pandas_visual_analysis) (7.29.0)\n",
      "Requirement already satisfied: nbformat>=4.2.0 in c:\\users\\rocky\\appdata\\local\\programs\\python\\python39\\lib\\site-packages (from ipywidgets>=7.5.1->pandas_visual_analysis) (5.1.3)\n",
      "Requirement already satisfied: ipykernel>=4.5.1 in c:\\users\\rocky\\appdata\\local\\programs\\python\\python39\\lib\\site-packages (from ipywidgets>=7.5.1->pandas_visual_analysis) (6.5.1)\n",
      "Requirement already satisfied: widgetsnbextension~=3.5.0 in c:\\users\\rocky\\appdata\\local\\programs\\python\\python39\\lib\\site-packages (from ipywidgets>=7.5.1->pandas_visual_analysis) (3.5.2)\n",
      "Requirement already satisfied: traitlets>=4.3.1 in c:\\users\\rocky\\appdata\\local\\programs\\python\\python39\\lib\\site-packages (from ipywidgets>=7.5.1->pandas_visual_analysis) (5.1.1)\n",
      "Requirement already satisfied: debugpy<2.0,>=1.0.0 in c:\\users\\rocky\\appdata\\local\\programs\\python\\python39\\lib\\site-packages (from ipykernel>=4.5.1->ipywidgets>=7.5.1->pandas_visual_analysis) (1.5.1)\n",
      "Requirement already satisfied: tornado<7.0,>=4.2 in c:\\users\\rocky\\appdata\\local\\programs\\python\\python39\\lib\\site-packages (from ipykernel>=4.5.1->ipywidgets>=7.5.1->pandas_visual_analysis) (6.1)\n",
      "Requirement already satisfied: jupyter-client<8.0 in c:\\users\\rocky\\appdata\\local\\programs\\python\\python39\\lib\\site-packages (from ipykernel>=4.5.1->ipywidgets>=7.5.1->pandas_visual_analysis) (7.1.0)\n",
      "Requirement already satisfied: matplotlib-inline<0.2.0,>=0.1.0 in c:\\users\\rocky\\appdata\\local\\programs\\python\\python39\\lib\\site-packages (from ipykernel>=4.5.1->ipywidgets>=7.5.1->pandas_visual_analysis) (0.1.3)\n",
      "Requirement already satisfied: jedi>=0.16 in c:\\users\\rocky\\appdata\\local\\programs\\python\\python39\\lib\\site-packages (from ipython>=4.0.0->ipywidgets>=7.5.1->pandas_visual_analysis) (0.18.1)\n",
      "Requirement already satisfied: decorator in c:\\users\\rocky\\appdata\\local\\programs\\python\\python39\\lib\\site-packages (from ipython>=4.0.0->ipywidgets>=7.5.1->pandas_visual_analysis) (5.1.0)\n",
      "Requirement already satisfied: pygments in c:\\users\\rocky\\appdata\\local\\programs\\python\\python39\\lib\\site-packages (from ipython>=4.0.0->ipywidgets>=7.5.1->pandas_visual_analysis) (2.10.0)\n",
      "Requirement already satisfied: pickleshare in c:\\users\\rocky\\appdata\\local\\programs\\python\\python39\\lib\\site-packages (from ipython>=4.0.0->ipywidgets>=7.5.1->pandas_visual_analysis) (0.7.5)\n",
      "Requirement already satisfied: backcall in c:\\users\\rocky\\appdata\\local\\programs\\python\\python39\\lib\\site-packages (from ipython>=4.0.0->ipywidgets>=7.5.1->pandas_visual_analysis) (0.2.0)\n",
      "Requirement already satisfied: prompt-toolkit!=3.0.0,!=3.0.1,<3.1.0,>=2.0.0 in c:\\users\\rocky\\appdata\\local\\programs\\python\\python39\\lib\\site-packages (from ipython>=4.0.0->ipywidgets>=7.5.1->pandas_visual_analysis) (3.0.22)\n",
      "Requirement already satisfied: colorama in c:\\users\\rocky\\appdata\\local\\programs\\python\\python39\\lib\\site-packages (from ipython>=4.0.0->ipywidgets>=7.5.1->pandas_visual_analysis) (0.4.4)\n",
      "Requirement already satisfied: parso<0.9.0,>=0.8.0 in c:\\users\\rocky\\appdata\\local\\programs\\python\\python39\\lib\\site-packages (from jedi>=0.16->ipython>=4.0.0->ipywidgets>=7.5.1->pandas_visual_analysis) (0.8.2)\n",
      "Requirement already satisfied: jupyter-core>=4.6.0 in c:\\users\\rocky\\appdata\\local\\programs\\python\\python39\\lib\\site-packages (from jupyter-client<8.0->ipykernel>=4.5.1->ipywidgets>=7.5.1->pandas_visual_analysis) (4.9.1)\n",
      "Requirement already satisfied: entrypoints in c:\\users\\rocky\\appdata\\local\\programs\\python\\python39\\lib\\site-packages (from jupyter-client<8.0->ipykernel>=4.5.1->ipywidgets>=7.5.1->pandas_visual_analysis) (0.3)\n",
      "Requirement already satisfied: nest-asyncio>=1.5 in c:\\users\\rocky\\appdata\\local\\programs\\python\\python39\\lib\\site-packages (from jupyter-client<8.0->ipykernel>=4.5.1->ipywidgets>=7.5.1->pandas_visual_analysis) (1.5.1)\n",
      "Requirement already satisfied: python-dateutil>=2.1 in c:\\users\\rocky\\appdata\\local\\programs\\python\\python39\\lib\\site-packages (from jupyter-client<8.0->ipykernel>=4.5.1->ipywidgets>=7.5.1->pandas_visual_analysis) (2.8.2)\n",
      "Requirement already satisfied: pyzmq>=13 in c:\\users\\rocky\\appdata\\local\\programs\\python\\python39\\lib\\site-packages (from jupyter-client<8.0->ipykernel>=4.5.1->ipywidgets>=7.5.1->pandas_visual_analysis) (22.3.0)\n",
      "Requirement already satisfied: pywin32>=1.0 in c:\\users\\rocky\\appdata\\local\\programs\\python\\python39\\lib\\site-packages (from jupyter-core>=4.6.0->jupyter-client<8.0->ipykernel>=4.5.1->ipywidgets>=7.5.1->pandas_visual_analysis) (302)\n",
      "Requirement already satisfied: jsonschema!=2.5.0,>=2.4 in c:\\users\\rocky\\appdata\\local\\programs\\python\\python39\\lib\\site-packages (from nbformat>=4.2.0->ipywidgets>=7.5.1->pandas_visual_analysis) (4.2.1)\n",
      "Requirement already satisfied: pyrsistent!=0.17.0,!=0.17.1,!=0.17.2,>=0.14.0 in c:\\users\\rocky\\appdata\\local\\programs\\python\\python39\\lib\\site-packages (from jsonschema!=2.5.0,>=2.4->nbformat>=4.2.0->ipywidgets>=7.5.1->pandas_visual_analysis) (0.18.0)\n",
      "Requirement already satisfied: attrs>=17.4.0 in c:\\users\\rocky\\appdata\\local\\programs\\python\\python39\\lib\\site-packages (from jsonschema!=2.5.0,>=2.4->nbformat>=4.2.0->ipywidgets>=7.5.1->pandas_visual_analysis) (21.2.0)\n",
      "Requirement already satisfied: pytz>=2017.3 in c:\\users\\rocky\\appdata\\local\\programs\\python\\python39\\lib\\site-packages (from pandas>=1.1.0->pandas_visual_analysis) (2021.3)\n",
      "Requirement already satisfied: six in c:\\users\\rocky\\appdata\\local\\programs\\python\\python39\\lib\\site-packages (from plotly>=4.10.0->pandas_visual_analysis) (1.16.0)\n",
      "Requirement already satisfied: tenacity>=6.2.0 in c:\\users\\rocky\\appdata\\local\\programs\\python\\python39\\lib\\site-packages (from plotly>=4.10.0->pandas_visual_analysis) (8.0.1)\n",
      "Requirement already satisfied: wcwidth in c:\\users\\rocky\\appdata\\local\\programs\\python\\python39\\lib\\site-packages (from prompt-toolkit!=3.0.0,!=3.0.1,<3.1.0,>=2.0.0->ipython>=4.0.0->ipywidgets>=7.5.1->pandas_visual_analysis) (0.2.5)\n",
      "Requirement already satisfied: notebook>=4.4.1 in c:\\users\\rocky\\appdata\\local\\programs\\python\\python39\\lib\\site-packages (from widgetsnbextension~=3.5.0->ipywidgets>=7.5.1->pandas_visual_analysis) (6.4.6)\n",
      "Requirement already satisfied: argon2-cffi in c:\\users\\rocky\\appdata\\local\\programs\\python\\python39\\lib\\site-packages (from notebook>=4.4.1->widgetsnbextension~=3.5.0->ipywidgets>=7.5.1->pandas_visual_analysis) (21.1.0)\n",
      "Requirement already satisfied: Send2Trash>=1.8.0 in c:\\users\\rocky\\appdata\\local\\programs\\python\\python39\\lib\\site-packages (from notebook>=4.4.1->widgetsnbextension~=3.5.0->ipywidgets>=7.5.1->pandas_visual_analysis) (1.8.0)\n",
      "Requirement already satisfied: nbconvert in c:\\users\\rocky\\appdata\\local\\programs\\python\\python39\\lib\\site-packages (from notebook>=4.4.1->widgetsnbextension~=3.5.0->ipywidgets>=7.5.1->pandas_visual_analysis) (6.3.0)\n",
      "Requirement already satisfied: jinja2 in c:\\users\\rocky\\appdata\\local\\programs\\python\\python39\\lib\\site-packages (from notebook>=4.4.1->widgetsnbextension~=3.5.0->ipywidgets>=7.5.1->pandas_visual_analysis) (3.0.3)\n",
      "Requirement already satisfied: terminado>=0.8.3 in c:\\users\\rocky\\appdata\\local\\programs\\python\\python39\\lib\\site-packages (from notebook>=4.4.1->widgetsnbextension~=3.5.0->ipywidgets>=7.5.1->pandas_visual_analysis) (0.12.1)\n",
      "Requirement already satisfied: prometheus-client in c:\\users\\rocky\\appdata\\local\\programs\\python\\python39\\lib\\site-packages (from notebook>=4.4.1->widgetsnbextension~=3.5.0->ipywidgets>=7.5.1->pandas_visual_analysis) (0.12.0)\n",
      "Requirement already satisfied: pywinpty>=1.1.0 in c:\\users\\rocky\\appdata\\local\\programs\\python\\python39\\lib\\site-packages (from terminado>=0.8.3->notebook>=4.4.1->widgetsnbextension~=3.5.0->ipywidgets>=7.5.1->pandas_visual_analysis) (1.1.6)\n",
      "Requirement already satisfied: cffi>=1.0.0 in c:\\users\\rocky\\appdata\\local\\programs\\python\\python39\\lib\\site-packages (from argon2-cffi->notebook>=4.4.1->widgetsnbextension~=3.5.0->ipywidgets>=7.5.1->pandas_visual_analysis) (1.15.0)\n",
      "Requirement already satisfied: pycparser in c:\\users\\rocky\\appdata\\local\\programs\\python\\python39\\lib\\site-packages (from cffi>=1.0.0->argon2-cffi->notebook>=4.4.1->widgetsnbextension~=3.5.0->ipywidgets>=7.5.1->pandas_visual_analysis) (2.21)\n",
      "Requirement already satisfied: MarkupSafe>=2.0 in c:\\users\\rocky\\appdata\\local\\programs\\python\\python39\\lib\\site-packages (from jinja2->notebook>=4.4.1->widgetsnbextension~=3.5.0->ipywidgets>=7.5.1->pandas_visual_analysis) (2.0.1)\n",
      "Requirement already satisfied: nbclient<0.6.0,>=0.5.0 in c:\\users\\rocky\\appdata\\local\\programs\\python\\python39\\lib\\site-packages (from nbconvert->notebook>=4.4.1->widgetsnbextension~=3.5.0->ipywidgets>=7.5.1->pandas_visual_analysis) (0.5.9)\n",
      "Requirement already satisfied: defusedxml in c:\\users\\rocky\\appdata\\local\\programs\\python\\python39\\lib\\site-packages (from nbconvert->notebook>=4.4.1->widgetsnbextension~=3.5.0->ipywidgets>=7.5.1->pandas_visual_analysis) (0.7.1)\n",
      "Requirement already satisfied: bleach in c:\\users\\rocky\\appdata\\local\\programs\\python\\python39\\lib\\site-packages (from nbconvert->notebook>=4.4.1->widgetsnbextension~=3.5.0->ipywidgets>=7.5.1->pandas_visual_analysis) (4.1.0)\n",
      "Requirement already satisfied: mistune<2,>=0.8.1 in c:\\users\\rocky\\appdata\\local\\programs\\python\\python39\\lib\\site-packages (from nbconvert->notebook>=4.4.1->widgetsnbextension~=3.5.0->ipywidgets>=7.5.1->pandas_visual_analysis) (0.8.4)\n",
      "Requirement already satisfied: pandocfilters>=1.4.1 in c:\\users\\rocky\\appdata\\local\\programs\\python\\python39\\lib\\site-packages (from nbconvert->notebook>=4.4.1->widgetsnbextension~=3.5.0->ipywidgets>=7.5.1->pandas_visual_analysis) (1.5.0)\n",
      "Requirement already satisfied: jupyterlab-pygments in c:\\users\\rocky\\appdata\\local\\programs\\python\\python39\\lib\\site-packages (from nbconvert->notebook>=4.4.1->widgetsnbextension~=3.5.0->ipywidgets>=7.5.1->pandas_visual_analysis) (0.1.2)\n",
      "Requirement already satisfied: testpath in c:\\users\\rocky\\appdata\\local\\programs\\python\\python39\\lib\\site-packages (from nbconvert->notebook>=4.4.1->widgetsnbextension~=3.5.0->ipywidgets>=7.5.1->pandas_visual_analysis) (0.5.0)\n",
      "Requirement already satisfied: webencodings in c:\\users\\rocky\\appdata\\local\\programs\\python\\python39\\lib\\site-packages (from bleach->nbconvert->notebook>=4.4.1->widgetsnbextension~=3.5.0->ipywidgets>=7.5.1->pandas_visual_analysis) (0.5.1)\n",
      "Requirement already satisfied: packaging in c:\\users\\rocky\\appdata\\local\\programs\\python\\python39\\lib\\site-packages (from bleach->nbconvert->notebook>=4.4.1->widgetsnbextension~=3.5.0->ipywidgets>=7.5.1->pandas_visual_analysis) (21.3)\n",
      "Requirement already satisfied: pyparsing!=3.0.5,>=2.0.2 in c:\\users\\rocky\\appdata\\local\\programs\\python\\python39\\lib\\site-packages (from packaging->bleach->nbconvert->notebook>=4.4.1->widgetsnbextension~=3.5.0->ipywidgets>=7.5.1->pandas_visual_analysis) (3.0.6)\n",
      "Using legacy 'setup.py install' for blinker, since package 'wheel' is not installed.\n",
      "Installing collected packages: blinker, pandas-visual-analysis\n",
      "    Running setup.py install for blinker: started\n",
      "    Running setup.py install for blinker: finished with status 'done'\n",
      "Successfully installed blinker-1.4 pandas-visual-analysis-0.0.4\n"
     ]
    },
    {
     "name": "stderr",
     "output_type": "stream",
     "text": [
      "WARNING: You are using pip version 21.2.4; however, version 22.0.4 is available.\n",
      "You should consider upgrading via the 'C:\\Users\\rocky\\AppData\\Local\\Programs\\Python\\Python39\\python.exe -m pip install --upgrade pip' command.\n"
     ]
    }
   ],
   "source": [
    "!pip install pandas_visual_analysis"
   ]
  },
  {
   "cell_type": "code",
   "execution_count": 27,
   "id": "f2751aff-bc14-4f9b-8d6c-6fd7e08b94d8",
   "metadata": {},
   "outputs": [
    {
     "data": {
      "application/vnd.jupyter.widget-view+json": {
       "model_id": "91c63ff48896425c9af6dd546180e004",
       "version_major": 2,
       "version_minor": 0
      },
      "text/plain": [
       "VBox(children=(ToggleButtons(_dom_classes=('layout-be3ca8dabe65433986e0c48d61d542dc',), description='Selection…"
      ]
     },
     "metadata": {},
     "output_type": "display_data"
    }
   ],
   "source": [
    "from pandas_visual_analysis import VisualAnalysis\n",
    "VisualAnalysis(df)"
   ]
  },
  {
   "cell_type": "code",
   "execution_count": null,
   "id": "3c85aaf7-cea2-4717-a253-f0d83e6a30f1",
   "metadata": {},
   "outputs": [],
   "source": []
  },
  {
   "cell_type": "code",
   "execution_count": null,
   "id": "f3394225-af50-4635-af53-148e989d6937",
   "metadata": {},
   "outputs": [],
   "source": []
  }
 ],
 "metadata": {
  "kernelspec": {
   "display_name": "Python 3 (ipykernel)",
   "language": "python",
   "name": "python3"
  },
  "language_info": {
   "codemirror_mode": {
    "name": "ipython",
    "version": 3
   },
   "file_extension": ".py",
   "mimetype": "text/x-python",
   "name": "python",
   "nbconvert_exporter": "python",
   "pygments_lexer": "ipython3",
   "version": "3.9.9"
  }
 },
 "nbformat": 4,
 "nbformat_minor": 5
}
